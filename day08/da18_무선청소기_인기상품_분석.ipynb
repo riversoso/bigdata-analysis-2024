{
 "cells": [
  {
   "cell_type": "markdown",
   "metadata": {},
   "source": [
    "## 빅데이터 실습\n",
    "\n",
    "### 다나와 무선청소기 상품분석\n",
    "\n",
    "#### 데이터 수집\n",
    "\n",
    "##### 셀레니움 사용"
   ]
  },
  {
   "cell_type": "code",
   "execution_count": 21,
   "metadata": {},
   "outputs": [],
   "source": [
    "## 필수 라이브러리 사용등록\n",
    "from selenium import webdriver\n",
    "from bs4 import BeautifulSoup\n",
    "from urllib import parse # url encode\n",
    "from tqdm import tqdm\n",
    "import pandas as pd\n",
    "import time"
   ]
  },
  {
   "cell_type": "code",
   "execution_count": 22,
   "metadata": {},
   "outputs": [
    {
     "ename": "NoSuchWindowException",
     "evalue": "Message: no such window: target window already closed\nfrom unknown error: web view not found\n  (Session info: chrome=122.0.6261.129)\nStacktrace:\n\tGetHandleVerifier [0x00007FF7A28BAD32+56930]\n\t(No symbol) [0x00007FF7A282F632]\n\t(No symbol) [0x00007FF7A26E42E5]\n\t(No symbol) [0x00007FF7A26C1D4C]\n\t(No symbol) [0x00007FF7A27523F7]\n\t(No symbol) [0x00007FF7A2767891]\n\t(No symbol) [0x00007FF7A274BA43]\n\t(No symbol) [0x00007FF7A271D438]\n\t(No symbol) [0x00007FF7A271E4D1]\n\tGetHandleVerifier [0x00007FF7A2C36ABD+3709933]\n\tGetHandleVerifier [0x00007FF7A2C8FFFD+4075821]\n\tGetHandleVerifier [0x00007FF7A2C8818F+4043455]\n\tGetHandleVerifier [0x00007FF7A2959766+706710]\n\t(No symbol) [0x00007FF7A283B90F]\n\t(No symbol) [0x00007FF7A2836AF4]\n\t(No symbol) [0x00007FF7A2836C4C]\n\t(No symbol) [0x00007FF7A2826904]\n\tBaseThreadInitThunk [0x00007FFAB3A153E0+16]\n\tRtlUserThreadStart [0x00007FFAB504485B+43]\n",
     "output_type": "error",
     "traceback": [
      "\u001b[1;31m---------------------------------------------------------------------------\u001b[0m",
      "\u001b[1;31mNoSuchWindowException\u001b[0m                     Traceback (most recent call last)",
      "Cell \u001b[1;32mIn[22], line 4\u001b[0m\n\u001b[0;32m      2\u001b[0m driver \u001b[38;5;241m=\u001b[39m webdriver\u001b[38;5;241m.\u001b[39mChrome()\n\u001b[0;32m      3\u001b[0m url \u001b[38;5;241m=\u001b[39m \u001b[38;5;124mr\u001b[39m\u001b[38;5;124m'\u001b[39m\u001b[38;5;124mhttps://search.danawa.com/dsearch.php?k1=\u001b[39m\u001b[38;5;132;01m%E\u001b[39;00m\u001b[38;5;124mC\u001b[39m\u001b[38;5;132;01m%97%\u001b[39;00m\u001b[38;5;124m90\u001b[39m\u001b[38;5;132;01m%E\u001b[39;00m\u001b[38;5;124mC\u001b[39m\u001b[38;5;132;01m%96%\u001b[39;00m\u001b[38;5;124mB4\u001b[39m\u001b[38;5;132;01m%E\u001b[39;00m\u001b[38;5;124mB\u001b[39m\u001b[38;5;124m%\u001b[39m\u001b[38;5;124mA9\u001b[39m\u001b[38;5;132;01m%94%\u001b[39;00m\u001b[38;5;124mEC\u001b[39m\u001b[38;5;124m%\u001b[39m\u001b[38;5;124m9D\u001b[39m\u001b[38;5;124m%\u001b[39m\u001b[38;5;124mB4\u001b[39m\u001b[38;5;132;01m%E\u001b[39;00m\u001b[38;5;124mB\u001b[39m\u001b[38;5;132;01m%93%\u001b[39;00m\u001b[38;5;124m9C+\u001b[39m\u001b[38;5;132;01m%E\u001b[39;00m\u001b[38;5;124mC\u001b[39m\u001b[38;5;124m%\u001b[39m\u001b[38;5;124m8A\u001b[39m\u001b[38;5;124m%\u001b[39m\u001b[38;5;124mA4\u001b[39m\u001b[38;5;132;01m%E\u001b[39;00m\u001b[38;5;124mB\u001b[39m\u001b[38;5;124m%\u001b[39m\u001b[38;5;124mA7\u001b[39m\u001b[38;5;132;01m%88%\u001b[39;00m\u001b[38;5;124mED\u001b[39m\u001b[38;5;124m%\u001b[39m\u001b[38;5;124m8A\u001b[39m\u001b[38;5;124m%\u001b[39m\u001b[38;5;124mB8\u001b[39m\u001b[38;5;132;01m%E\u001b[39;00m\u001b[38;5;124mD\u001b[39m\u001b[38;5;132;01m%83%\u001b[39;00m\u001b[38;5;124m80\u001b[39m\u001b[38;5;132;01m%E\u001b[39;00m\u001b[38;5;124mC\u001b[39m\u001b[38;5;124m%\u001b[39m\u001b[38;5;124m9B\u001b[39m\u001b[38;5;124m%\u001b[39m\u001b[38;5;124m8C&module=goods&act=dispMain\u001b[39m\u001b[38;5;124m'\u001b[39m\n\u001b[1;32m----> 4\u001b[0m \u001b[43mdriver\u001b[49m\u001b[38;5;241;43m.\u001b[39;49m\u001b[43mget\u001b[49m\u001b[43m(\u001b[49m\u001b[43murl\u001b[49m\u001b[43m)\u001b[49m\n\u001b[0;32m      5\u001b[0m time\u001b[38;5;241m.\u001b[39msleep(\u001b[38;5;241m5.0\u001b[39m)\n",
      "File \u001b[1;32mc:\\DEV\\Python312\\Lib\\site-packages\\selenium\\webdriver\\remote\\webdriver.py:356\u001b[0m, in \u001b[0;36mWebDriver.get\u001b[1;34m(self, url)\u001b[0m\n\u001b[0;32m    354\u001b[0m \u001b[38;5;28;01mdef\u001b[39;00m \u001b[38;5;21mget\u001b[39m(\u001b[38;5;28mself\u001b[39m, url: \u001b[38;5;28mstr\u001b[39m) \u001b[38;5;241m-\u001b[39m\u001b[38;5;241m>\u001b[39m \u001b[38;5;28;01mNone\u001b[39;00m:\n\u001b[0;32m    355\u001b[0m \u001b[38;5;250m    \u001b[39m\u001b[38;5;124;03m\"\"\"Loads a web page in the current browser session.\"\"\"\u001b[39;00m\n\u001b[1;32m--> 356\u001b[0m     \u001b[38;5;28;43mself\u001b[39;49m\u001b[38;5;241;43m.\u001b[39;49m\u001b[43mexecute\u001b[49m\u001b[43m(\u001b[49m\u001b[43mCommand\u001b[49m\u001b[38;5;241;43m.\u001b[39;49m\u001b[43mGET\u001b[49m\u001b[43m,\u001b[49m\u001b[43m \u001b[49m\u001b[43m{\u001b[49m\u001b[38;5;124;43m\"\u001b[39;49m\u001b[38;5;124;43murl\u001b[39;49m\u001b[38;5;124;43m\"\u001b[39;49m\u001b[43m:\u001b[49m\u001b[43m \u001b[49m\u001b[43murl\u001b[49m\u001b[43m}\u001b[49m\u001b[43m)\u001b[49m\n",
      "File \u001b[1;32mc:\\DEV\\Python312\\Lib\\site-packages\\selenium\\webdriver\\remote\\webdriver.py:347\u001b[0m, in \u001b[0;36mWebDriver.execute\u001b[1;34m(self, driver_command, params)\u001b[0m\n\u001b[0;32m    345\u001b[0m response \u001b[38;5;241m=\u001b[39m \u001b[38;5;28mself\u001b[39m\u001b[38;5;241m.\u001b[39mcommand_executor\u001b[38;5;241m.\u001b[39mexecute(driver_command, params)\n\u001b[0;32m    346\u001b[0m \u001b[38;5;28;01mif\u001b[39;00m response:\n\u001b[1;32m--> 347\u001b[0m     \u001b[38;5;28;43mself\u001b[39;49m\u001b[38;5;241;43m.\u001b[39;49m\u001b[43merror_handler\u001b[49m\u001b[38;5;241;43m.\u001b[39;49m\u001b[43mcheck_response\u001b[49m\u001b[43m(\u001b[49m\u001b[43mresponse\u001b[49m\u001b[43m)\u001b[49m\n\u001b[0;32m    348\u001b[0m     response[\u001b[38;5;124m\"\u001b[39m\u001b[38;5;124mvalue\u001b[39m\u001b[38;5;124m\"\u001b[39m] \u001b[38;5;241m=\u001b[39m \u001b[38;5;28mself\u001b[39m\u001b[38;5;241m.\u001b[39m_unwrap_value(response\u001b[38;5;241m.\u001b[39mget(\u001b[38;5;124m\"\u001b[39m\u001b[38;5;124mvalue\u001b[39m\u001b[38;5;124m\"\u001b[39m, \u001b[38;5;28;01mNone\u001b[39;00m))\n\u001b[0;32m    349\u001b[0m     \u001b[38;5;28;01mreturn\u001b[39;00m response\n",
      "File \u001b[1;32mc:\\DEV\\Python312\\Lib\\site-packages\\selenium\\webdriver\\remote\\errorhandler.py:229\u001b[0m, in \u001b[0;36mErrorHandler.check_response\u001b[1;34m(self, response)\u001b[0m\n\u001b[0;32m    227\u001b[0m         alert_text \u001b[38;5;241m=\u001b[39m value[\u001b[38;5;124m\"\u001b[39m\u001b[38;5;124malert\u001b[39m\u001b[38;5;124m\"\u001b[39m]\u001b[38;5;241m.\u001b[39mget(\u001b[38;5;124m\"\u001b[39m\u001b[38;5;124mtext\u001b[39m\u001b[38;5;124m\"\u001b[39m)\n\u001b[0;32m    228\u001b[0m     \u001b[38;5;28;01mraise\u001b[39;00m exception_class(message, screen, stacktrace, alert_text)  \u001b[38;5;66;03m# type: ignore[call-arg]  # mypy is not smart enough here\u001b[39;00m\n\u001b[1;32m--> 229\u001b[0m \u001b[38;5;28;01mraise\u001b[39;00m exception_class(message, screen, stacktrace)\n",
      "\u001b[1;31mNoSuchWindowException\u001b[0m: Message: no such window: target window already closed\nfrom unknown error: web view not found\n  (Session info: chrome=122.0.6261.129)\nStacktrace:\n\tGetHandleVerifier [0x00007FF7A28BAD32+56930]\n\t(No symbol) [0x00007FF7A282F632]\n\t(No symbol) [0x00007FF7A26E42E5]\n\t(No symbol) [0x00007FF7A26C1D4C]\n\t(No symbol) [0x00007FF7A27523F7]\n\t(No symbol) [0x00007FF7A2767891]\n\t(No symbol) [0x00007FF7A274BA43]\n\t(No symbol) [0x00007FF7A271D438]\n\t(No symbol) [0x00007FF7A271E4D1]\n\tGetHandleVerifier [0x00007FF7A2C36ABD+3709933]\n\tGetHandleVerifier [0x00007FF7A2C8FFFD+4075821]\n\tGetHandleVerifier [0x00007FF7A2C8818F+4043455]\n\tGetHandleVerifier [0x00007FF7A2959766+706710]\n\t(No symbol) [0x00007FF7A283B90F]\n\t(No symbol) [0x00007FF7A2836AF4]\n\t(No symbol) [0x00007FF7A2836C4C]\n\t(No symbol) [0x00007FF7A2826904]\n\tBaseThreadInitThunk [0x00007FFAB3A153E0+16]\n\tRtlUserThreadStart [0x00007FFAB504485B+43]\n"
     ]
    }
   ],
   "source": [
    "## 웹드라이버로 크롬 오픈\n",
    "driver = webdriver.Chrome()\n",
    "url = r'https://search.danawa.com/dsearch.php?k1=%EC%97%90%EC%96%B4%EB%A9%94%EC%9D%B4%EB%93%9C+%EC%8A%A4%EB%A7%88%ED%8A%B8%ED%83%80%EC%9B%8C&module=goods&act=dispMain'\n",
    "driver.get(url)\n",
    "time.sleep(5.0)"
   ]
  },
  {
   "cell_type": "code",
   "execution_count": null,
   "metadata": {},
   "outputs": [],
   "source": [
    "html = driver.page_source\n",
    "soup = BeautifulSoup(html, 'html.parser')"
   ]
  },
  {
   "cell_type": "code",
   "execution_count": null,
   "metadata": {},
   "outputs": [],
   "source": [
    "prodItems = soup.select('ul.product_list > li.prod_item')"
   ]
  },
  {
   "cell_type": "code",
   "execution_count": null,
   "metadata": {},
   "outputs": [
    {
     "data": {
      "text/plain": [
       "3"
      ]
     },
     "execution_count": 6,
     "metadata": {},
     "output_type": "execute_result"
    }
   ],
   "source": [
    "len(prodItems)"
   ]
  },
  {
   "cell_type": "code",
   "execution_count": null,
   "metadata": {},
   "outputs": [
    {
     "data": {
      "text/plain": [
       "'에어메이드 스마트타워 AMC-3501A'"
      ]
     },
     "execution_count": 10,
     "metadata": {},
     "output_type": "execute_result"
    }
   ],
   "source": [
    "prodItems[0].select('p.prod_name > a')[0].text.strip()"
   ]
  },
  {
   "cell_type": "code",
   "execution_count": null,
   "metadata": {},
   "outputs": [
    {
     "data": {
      "text/plain": [
       "'핸디스틱청소기 / 무선 / 흡입형 / 흡입력: 370W / 2024년형 / [구성] 먼지비움 / 충전 / UVC LED / 브러쉬: 바닥 / 침구 / 솔형 / 틈새 / 먼지봉투: 2.5L / [배터리] 사용시간: 40분(최대) / 충전시간: 5시간 / 분리형(1개) / 2500mAh / [청소] LED라이트 / BLDC모터 / [부가] 디스플레이표시 / 헤파필터 / 색상: 화이트 / 무게: 2.5kg / 크기(가로x세로x깊이): 252x1253x185mm'"
      ]
     },
     "execution_count": 11,
     "metadata": {},
     "output_type": "execute_result"
    }
   ],
   "source": [
    "prodItems[0].select('div.spec_list')[0].text.strip().replace('\\t', '')"
   ]
  },
  {
   "cell_type": "code",
   "execution_count": 33,
   "metadata": {},
   "outputs": [
    {
     "data": {
      "text/plain": [
       "True"
      ]
     },
     "execution_count": 33,
     "metadata": {},
     "output_type": "execute_result"
    }
   ],
   "source": [
    "# 만약에 수가 아닌 문자열 들어왔을때는 False\n",
    "prodItems[0].select('input')[1].get('value').isdecimal()"
   ]
  },
  {
   "cell_type": "markdown",
   "metadata": {},
   "source": [
    "##### 다나와 무선청소기 웹크롤링 다시\n",
    "- 가격외에는 안들어오도록 변환"
   ]
  },
  {
   "cell_type": "code",
   "execution_count": 34,
   "metadata": {},
   "outputs": [],
   "source": [
    "## 검색어, 페이지를 변경하면서 URL 생성함수\n",
    "def getSearchPageUrl(keyword, page):\n",
    "    ecKeyword = parse.quote(keyword)\n",
    "    url = f'https://search.danawa.com/dsearch.php?query={ecKeyword}&originalQuery={ecKeyword}&previousKeyword={ecKeyword}&checkedInfo=N&volumeType=allvs&' + \\\n",
    "          f'page={page}&limit=120&sort=saveDESC&list=list&boost=true&tab=goods&addDelivery=N&coupangMemberSort=N&mode=simple&isInitTireSmartFinder=N&' + \\\n",
    "           'recommendedSort=N&defaultUICategoryCode=10325109&defaultPhysicsCategoryCode=72%7C80%7C81%7C0&defaultVmTab=3138&defaultVaTab=1098867&isZeroPrice=Y&' + \\\n",
    "           'quickProductYN=N&priceUnitSort=N&priceUnitSortOrder=A'\n",
    "    return url"
   ]
  },
  {
   "cell_type": "code",
   "execution_count": 35,
   "metadata": {},
   "outputs": [],
   "source": [
    "## 상품정보 추출하는 함수\n",
    "def getProdItems(prodItems):\n",
    "    prodData = []\n",
    "\n",
    "    for prodItem in prodItems:\n",
    "        try:\n",
    "            prodName = prodItem.select('p.prod_name > a')[0].text.strip()  # 상품명 가져오기\n",
    "            specList = prodItem.select('div.spec_list')[0].text.strip().replace('\\t', '') # 상품 스펙목록 가져오기\n",
    "\n",
    "            if prodItem.select('input')[1].get('value').isdecimal() == True: \n",
    "                price = prodItem.select('input')[1].get('value') # 최저가 가져오기\n",
    "            else:\n",
    "                price = 0 # 문자열 들어온 것 막음\n",
    "\n",
    "            prodData.append([prodName, specList, price])\n",
    "        except:\n",
    "            pass\n",
    "    \n",
    "    return prodData"
   ]
  },
  {
   "cell_type": "code",
   "execution_count": 36,
   "metadata": {},
   "outputs": [
    {
     "name": "stderr",
     "output_type": "stream",
     "text": [
      "100%|██████████| 20/20 [05:07<00:00, 15.40s/it]\n"
     ]
    }
   ],
   "source": [
    "## 여러페이지 검색후 크롤링하는 작업\n",
    "driver = webdriver.Chrome()\n",
    "# 암묵적으로 웹 자원 로드를 위해 3초정도 대기\n",
    "driver.implicitly_wait(3.0)\n",
    "\n",
    "keyword = '무선청소기'\n",
    "startPage = 1\n",
    "totalPage = 20\n",
    "prodDataTotal = [] # 최종적으로 저장할 리스트\n",
    "\n",
    "for page in tqdm(range(startPage, totalPage +1)):\n",
    "    # 검색 페이지 이동\n",
    "    url = getSearchPageUrl(keyword, page)\n",
    "    driver.get(url)\n",
    "    # 페이지 로딩이 완료될때까지 5초간 대기\n",
    "    time.sleep(5)\n",
    "\n",
    "    # 현재 페이지 HTML 가져오기\n",
    "    html = driver.page_source\n",
    "    soup = BeautifulSoup(html, 'html.parser')\n",
    "\n",
    "    # 상품정보 추출\n",
    "    prodItems = soup.select('ul.product_list > li.prod_item')\n",
    "    prodItemList = getProdItems(prodItems) # 리스트로 추출하는 함수\n",
    "\n",
    "    # 추출된 정보를 prodDataTotal 추가\n",
    "    prodDataTotal += prodItemList   "
   ]
  },
  {
   "cell_type": "code",
   "execution_count": 38,
   "metadata": {},
   "outputs": [],
   "source": [
    "dfProdDataTotal = pd.DataFrame(prodDataTotal)"
   ]
  },
  {
   "cell_type": "code",
   "execution_count": 39,
   "metadata": {},
   "outputs": [
    {
     "name": "stdout",
     "output_type": "stream",
     "text": [
      "<class 'pandas.core.frame.DataFrame'>\n",
      "RangeIndex: 2120 entries, 0 to 2119\n",
      "Data columns (total 3 columns):\n",
      " #   Column  Non-Null Count  Dtype \n",
      "---  ------  --------------  ----- \n",
      " 0   0       2120 non-null   object\n",
      " 1   1       2120 non-null   object\n",
      " 2   2       2120 non-null   object\n",
      "dtypes: object(3)\n",
      "memory usage: 49.8+ KB\n"
     ]
    }
   ],
   "source": [
    "dfProdDataTotal.info()"
   ]
  },
  {
   "cell_type": "code",
   "execution_count": 41,
   "metadata": {},
   "outputs": [],
   "source": [
    "dfProdDataTotal.columns = ['제품명','제품스펙','최저가']"
   ]
  },
  {
   "cell_type": "code",
   "execution_count": 43,
   "metadata": {},
   "outputs": [],
   "source": [
    "dfProdDataTotal.to_excel('./data/다나와_무선청소기_결과.xlsx', index=False)"
   ]
  },
  {
   "cell_type": "markdown",
   "metadata": {},
   "source": [
    "##### 크롤링 데이터 전처리"
   ]
  },
  {
   "cell_type": "code",
   "execution_count": 45,
   "metadata": {},
   "outputs": [
    {
     "data": {
      "text/html": [
       "<div>\n",
       "<style scoped>\n",
       "    .dataframe tbody tr th:only-of-type {\n",
       "        vertical-align: middle;\n",
       "    }\n",
       "\n",
       "    .dataframe tbody tr th {\n",
       "        vertical-align: top;\n",
       "    }\n",
       "\n",
       "    .dataframe thead th {\n",
       "        text-align: right;\n",
       "    }\n",
       "</style>\n",
       "<table border=\"1\" class=\"dataframe\">\n",
       "  <thead>\n",
       "    <tr style=\"text-align: right;\">\n",
       "      <th></th>\n",
       "      <th>제품명</th>\n",
       "      <th>제품스펙</th>\n",
       "      <th>최저가</th>\n",
       "    </tr>\n",
       "  </thead>\n",
       "  <tbody>\n",
       "    <tr>\n",
       "      <th>2115</th>\n",
       "      <td>미니센 무선 소형 청소기 MNC-100 먼지통</td>\n",
       "      <td>차량용청소기 / 먼지통</td>\n",
       "      <td>7000</td>\n",
       "    </tr>\n",
       "    <tr>\n",
       "      <th>2116</th>\n",
       "      <td>프리라벨 2in1 무선 진공 청소기 LS-2000 헤파필터</td>\n",
       "      <td>차량용청소기 / 필터 / [필터] 헤파필터</td>\n",
       "      <td>3500</td>\n",
       "    </tr>\n",
       "    <tr>\n",
       "      <th>2117</th>\n",
       "      <td>상품상세설명 참조 캐치웰 텀블러 디자인 초경량 무선 핸디형 진공청소기_아이언그레이</td>\n",
       "      <td>NaN</td>\n",
       "      <td>0</td>\n",
       "    </tr>\n",
       "    <tr>\n",
       "      <th>2118</th>\n",
       "      <td>포쉬 워시젯 V2 WJ200</td>\n",
       "      <td>침구청소기 / 핸디형 / 무선 / 사용시간: 25분(최대) / [기능] 청소모드: ...</td>\n",
       "      <td>219000</td>\n",
       "    </tr>\n",
       "    <tr>\n",
       "      <th>2119</th>\n",
       "      <td>업킵 MJ-BC779</td>\n",
       "      <td>침구청소기 / 핸디형 / 무선 / [기능] 청소모드: UV살균 / 속도조절 / 헤파...</td>\n",
       "      <td>89900</td>\n",
       "    </tr>\n",
       "  </tbody>\n",
       "</table>\n",
       "</div>"
      ],
      "text/plain": [
       "                                                제품명  \\\n",
       "2115                      미니센 무선 소형 청소기 MNC-100 먼지통   \n",
       "2116               프리라벨 2in1 무선 진공 청소기 LS-2000 헤파필터   \n",
       "2117  상품상세설명 참조 캐치웰 텀블러 디자인 초경량 무선 핸디형 진공청소기_아이언그레이   \n",
       "2118                                포쉬 워시젯 V2 WJ200   \n",
       "2119                                    업킵 MJ-BC779   \n",
       "\n",
       "                                                   제품스펙     최저가  \n",
       "2115                                       차량용청소기 / 먼지통    7000  \n",
       "2116                            차량용청소기 / 필터 / [필터] 헤파필터    3500  \n",
       "2117                                                NaN       0  \n",
       "2118  침구청소기 / 핸디형 / 무선 / 사용시간: 25분(최대) / [기능] 청소모드: ...  219000  \n",
       "2119  침구청소기 / 핸디형 / 무선 / [기능] 청소모드: UV살균 / 속도조절 / 헤파...   89900  "
      ]
     },
     "execution_count": 45,
     "metadata": {},
     "output_type": "execute_result"
    }
   ],
   "source": [
    "# 저장한 엑셀을 재로드\n",
    "dfProdDanawa = pd.read_excel('./data/다나와_무선청소기_결과.xlsx')\n",
    "dfProdDanawa.tail()"
   ]
  },
  {
   "cell_type": "code",
   "execution_count": 46,
   "metadata": {},
   "outputs": [
    {
     "name": "stdout",
     "output_type": "stream",
     "text": [
      "<class 'pandas.core.frame.DataFrame'>\n",
      "RangeIndex: 2120 entries, 0 to 2119\n",
      "Data columns (total 3 columns):\n",
      " #   Column  Non-Null Count  Dtype \n",
      "---  ------  --------------  ----- \n",
      " 0   제품명     2120 non-null   object\n",
      " 1   제품스펙    2110 non-null   object\n",
      " 2   최저가     2120 non-null   int64 \n",
      "dtypes: int64(1), object(2)\n",
      "memory usage: 49.8+ KB\n"
     ]
    }
   ],
   "source": [
    "dfProdDanawa.info()"
   ]
  },
  {
   "cell_type": "code",
   "execution_count": 60,
   "metadata": {},
   "outputs": [
    {
     "data": {
      "text/plain": [
       "제품명      0\n",
       "제품스펙    10\n",
       "최저가      0\n",
       "dtype: int64"
      ]
     },
     "execution_count": 60,
     "metadata": {},
     "output_type": "execute_result"
    }
   ],
   "source": [
    "dfProdDanawa.isnull().sum()"
   ]
  },
  {
   "cell_type": "code",
   "execution_count": 58,
   "metadata": {},
   "outputs": [],
   "source": [
    "# 결측치 검색\n",
    "condition = dfProdDanawa['제품스펙'].isnull() == True"
   ]
  },
  {
   "cell_type": "code",
   "execution_count": 59,
   "metadata": {},
   "outputs": [
    {
     "data": {
      "text/html": [
       "<div>\n",
       "<style scoped>\n",
       "    .dataframe tbody tr th:only-of-type {\n",
       "        vertical-align: middle;\n",
       "    }\n",
       "\n",
       "    .dataframe tbody tr th {\n",
       "        vertical-align: top;\n",
       "    }\n",
       "\n",
       "    .dataframe thead th {\n",
       "        text-align: right;\n",
       "    }\n",
       "</style>\n",
       "<table border=\"1\" class=\"dataframe\">\n",
       "  <thead>\n",
       "    <tr style=\"text-align: right;\">\n",
       "      <th></th>\n",
       "      <th>제품명</th>\n",
       "      <th>제품스펙</th>\n",
       "      <th>최저가</th>\n",
       "    </tr>\n",
       "  </thead>\n",
       "  <tbody>\n",
       "    <tr>\n",
       "      <th>1846</th>\n",
       "      <td>스팀청소기 샤오미 무선 휴대용 자동차 진공 청소기 스마트 홈 흡입 및 블로잉 다기능...</td>\n",
       "      <td>NaN</td>\n",
       "      <td>0</td>\n",
       "    </tr>\n",
       "    <tr>\n",
       "      <th>1861</th>\n",
       "      <td>상품상세설명 참조 캐치웰 텀블러 디자인 초경량 무선 핸디형 진공청소기_아이언그레이</td>\n",
       "      <td>NaN</td>\n",
       "      <td>0</td>\n",
       "    </tr>\n",
       "    <tr>\n",
       "      <th>1910</th>\n",
       "      <td>스팀청소기 샤오미 무선 휴대용 자동차 진공 청소기 스마트 홈 흡입 및 블로잉 다기능...</td>\n",
       "      <td>NaN</td>\n",
       "      <td>0</td>\n",
       "    </tr>\n",
       "    <tr>\n",
       "      <th>1925</th>\n",
       "      <td>상품상세설명 참조 캐치웰 텀블러 디자인 초경량 무선 핸디형 진공청소기_아이언그레이</td>\n",
       "      <td>NaN</td>\n",
       "      <td>0</td>\n",
       "    </tr>\n",
       "    <tr>\n",
       "      <th>1974</th>\n",
       "      <td>스팀청소기 샤오미 무선 휴대용 자동차 진공 청소기 스마트 홈 흡입 및 블로잉 다기능...</td>\n",
       "      <td>NaN</td>\n",
       "      <td>0</td>\n",
       "    </tr>\n",
       "    <tr>\n",
       "      <th>1989</th>\n",
       "      <td>상품상세설명 참조 캐치웰 텀블러 디자인 초경량 무선 핸디형 진공청소기_아이언그레이</td>\n",
       "      <td>NaN</td>\n",
       "      <td>0</td>\n",
       "    </tr>\n",
       "    <tr>\n",
       "      <th>2038</th>\n",
       "      <td>스팀청소기 샤오미 무선 휴대용 자동차 진공 청소기 스마트 홈 흡입 및 블로잉 다기능...</td>\n",
       "      <td>NaN</td>\n",
       "      <td>0</td>\n",
       "    </tr>\n",
       "    <tr>\n",
       "      <th>2053</th>\n",
       "      <td>상품상세설명 참조 캐치웰 텀블러 디자인 초경량 무선 핸디형 진공청소기_아이언그레이</td>\n",
       "      <td>NaN</td>\n",
       "      <td>0</td>\n",
       "    </tr>\n",
       "    <tr>\n",
       "      <th>2102</th>\n",
       "      <td>스팀청소기 샤오미 무선 휴대용 자동차 진공 청소기 스마트 홈 흡입 및 블로잉 다기능...</td>\n",
       "      <td>NaN</td>\n",
       "      <td>0</td>\n",
       "    </tr>\n",
       "    <tr>\n",
       "      <th>2117</th>\n",
       "      <td>상품상세설명 참조 캐치웰 텀블러 디자인 초경량 무선 핸디형 진공청소기_아이언그레이</td>\n",
       "      <td>NaN</td>\n",
       "      <td>0</td>\n",
       "    </tr>\n",
       "  </tbody>\n",
       "</table>\n",
       "</div>"
      ],
      "text/plain": [
       "                                                    제품명 제품스펙  최저가\n",
       "1846  스팀청소기 샤오미 무선 휴대용 자동차 진공 청소기 스마트 홈 흡입 및 블로잉 다기능...  NaN    0\n",
       "1861      상품상세설명 참조 캐치웰 텀블러 디자인 초경량 무선 핸디형 진공청소기_아이언그레이  NaN    0\n",
       "1910  스팀청소기 샤오미 무선 휴대용 자동차 진공 청소기 스마트 홈 흡입 및 블로잉 다기능...  NaN    0\n",
       "1925      상품상세설명 참조 캐치웰 텀블러 디자인 초경량 무선 핸디형 진공청소기_아이언그레이  NaN    0\n",
       "1974  스팀청소기 샤오미 무선 휴대용 자동차 진공 청소기 스마트 홈 흡입 및 블로잉 다기능...  NaN    0\n",
       "1989      상품상세설명 참조 캐치웰 텀블러 디자인 초경량 무선 핸디형 진공청소기_아이언그레이  NaN    0\n",
       "2038  스팀청소기 샤오미 무선 휴대용 자동차 진공 청소기 스마트 홈 흡입 및 블로잉 다기능...  NaN    0\n",
       "2053      상품상세설명 참조 캐치웰 텀블러 디자인 초경량 무선 핸디형 진공청소기_아이언그레이  NaN    0\n",
       "2102  스팀청소기 샤오미 무선 휴대용 자동차 진공 청소기 스마트 홈 흡입 및 블로잉 다기능...  NaN    0\n",
       "2117      상품상세설명 참조 캐치웰 텀블러 디자인 초경량 무선 핸디형 진공청소기_아이언그레이  NaN    0"
      ]
     },
     "execution_count": 59,
     "metadata": {},
     "output_type": "execute_result"
    }
   ],
   "source": [
    "dfProdDanawa[condition]"
   ]
  },
  {
   "cell_type": "code",
   "execution_count": 68,
   "metadata": {},
   "outputs": [],
   "source": [
    "## 결측치가 있는 행(row)을 삭제\n",
    "dfProdDanawa = dfProdDanawa.dropna(axis=0)"
   ]
  },
  {
   "cell_type": "code",
   "execution_count": 71,
   "metadata": {},
   "outputs": [],
   "source": [
    "## 최저가가 0인 제품\n",
    "condition = dfProdDanawa['최저가'] == 0"
   ]
  },
  {
   "cell_type": "code",
   "execution_count": 76,
   "metadata": {},
   "outputs": [],
   "source": [
    "# 최저가가 0은 제품 제외한 나머지\n",
    "dfProdDanawa = dfProdDanawa[condition == False]"
   ]
  },
  {
   "cell_type": "code",
   "execution_count": 83,
   "metadata": {},
   "outputs": [],
   "source": [
    "# 행들이 삭제되면서 인덱스가 꼬임. 인덱스 초기화\n",
    "dfProdDanawa.reset_index(drop=True, inplace=True)"
   ]
  },
  {
   "cell_type": "code",
   "execution_count": 121,
   "metadata": {},
   "outputs": [
    {
     "name": "stdout",
     "output_type": "stream",
     "text": [
      "<class 'pandas.core.frame.DataFrame'>\n",
      "RangeIndex: 2057 entries, 0 to 2056\n",
      "Data columns (total 3 columns):\n",
      " #   Column  Non-Null Count  Dtype \n",
      "---  ------  --------------  ----- \n",
      " 0   제품명     2057 non-null   object\n",
      " 1   제품스펙    2057 non-null   object\n",
      " 2   최저가     2057 non-null   int64 \n",
      "dtypes: int64(1), object(2)\n",
      "memory usage: 48.3+ KB\n"
     ]
    }
   ],
   "source": [
    "# 결측치, 이상치를 제거한 최종 DF\n",
    "# 회사명, 모델명, 카테고리, 사용시간, 흡입력 추출한 결과도 2057개가 필수\n",
    "dfProdDanawa.info()"
   ]
  },
  {
   "cell_type": "code",
   "execution_count": 94,
   "metadata": {},
   "outputs": [
    {
     "data": {
      "text/plain": [
       "['LG전자', '오브제컬렉션 코드제로 A9S AX9884']"
      ]
     },
     "execution_count": 94,
     "metadata": {},
     "output_type": "execute_result"
    }
   ],
   "source": [
    "# 회사명, 제품명 분리 split(' ', n) n => 자를 공백의 번호\n",
    "dfProdDanawa['제품명'][:5][0].split(' ', 1)"
   ]
  },
  {
   "cell_type": "code",
   "execution_count": 101,
   "metadata": {},
   "outputs": [],
   "source": [
    "## 회사명, 모델명 분리 시작\n",
    "compList = []\n",
    "modelList = []\n",
    "count = 0\n",
    "\n",
    "for temp in dfProdDanawa['제품명']:\n",
    "    titles = temp.split(' ', 1) # 길이 2 배열 생성\n",
    "    if (len(titles) > 1):\n",
    "        compList.append(titles[0]) # 회사명\n",
    "        modelList.append(titles[1]) # 모델명\n",
    "    else:\n",
    "        compList.append('') # 회사명은 비운다\n",
    "        modelList.append(titles[0]) # 모델명\n",
    "\n",
    "    count +=1    "
   ]
  },
  {
   "cell_type": "code",
   "execution_count": 168,
   "metadata": {},
   "outputs": [
    {
     "data": {
      "text/plain": [
       "2057"
      ]
     },
     "execution_count": 168,
     "metadata": {},
     "output_type": "execute_result"
    }
   ],
   "source": [
    "len(compList)"
   ]
  },
  {
   "cell_type": "code",
   "execution_count": 169,
   "metadata": {},
   "outputs": [
    {
     "data": {
      "text/plain": [
       "2057"
      ]
     },
     "execution_count": 169,
     "metadata": {},
     "output_type": "execute_result"
    }
   ],
   "source": [
    "len(modelList)"
   ]
  },
  {
   "cell_type": "code",
   "execution_count": 141,
   "metadata": {},
   "outputs": [],
   "source": [
    "# 스펙목록 데이터\n",
    "specList = dfProdDanawa.loc[2000, '제품스펙'].split(' / ')"
   ]
  },
  {
   "cell_type": "code",
   "execution_count": 133,
   "metadata": {},
   "outputs": [
    {
     "data": {
      "text/plain": [
       "['업소용청소기',\n",
       " '고압세척기',\n",
       " '무선',\n",
       " '소비전력: 180W',\n",
       " '충전시간: 2시간30분',\n",
       " '사용시간: 45분(최대)',\n",
       " '[부가] 색상: 블랙',\n",
       " '무게: 1.8kg',\n",
       " '배터리잔량표시',\n",
       " '노즐: 롱건, 멀티노즐건, 버블건, 호스',\n",
       " '크기(가로x세로x깊이): 535x85x195mm']"
      ]
     },
     "execution_count": 133,
     "metadata": {},
     "output_type": "execute_result"
    }
   ],
   "source": [
    "specList"
   ]
  },
  {
   "cell_type": "code",
   "execution_count": 142,
   "metadata": {},
   "outputs": [
    {
     "name": "stdout",
     "output_type": "stream",
     "text": [
      "45분(최대)\n"
     ]
    },
    {
     "ename": "IndexError",
     "evalue": "list index out of range",
     "output_type": "error",
     "traceback": [
      "\u001b[1;31m---------------------------------------------------------------------------\u001b[0m",
      "\u001b[1;31mIndexError\u001b[0m                                Traceback (most recent call last)",
      "Cell \u001b[1;32mIn[142], line 10\u001b[0m\n\u001b[0;32m      7\u001b[0m         suctionPow \u001b[38;5;241m=\u001b[39m spec\n\u001b[0;32m      9\u001b[0m \u001b[38;5;28mprint\u001b[39m(useTime\u001b[38;5;241m.\u001b[39msplit(\u001b[38;5;124m'\u001b[39m\u001b[38;5;124m:\u001b[39m\u001b[38;5;124m'\u001b[39m)[\u001b[38;5;241m1\u001b[39m]\u001b[38;5;241m.\u001b[39mstrip())\n\u001b[1;32m---> 10\u001b[0m \u001b[38;5;28mprint\u001b[39m(\u001b[43msuctionPow\u001b[49m\u001b[38;5;241;43m.\u001b[39;49m\u001b[43msplit\u001b[49m\u001b[43m(\u001b[49m\u001b[38;5;124;43m'\u001b[39;49m\u001b[38;5;124;43m:\u001b[39;49m\u001b[38;5;124;43m'\u001b[39;49m\u001b[43m)\u001b[49m\u001b[43m[\u001b[49m\u001b[38;5;241;43m1\u001b[39;49m\u001b[43m]\u001b[49m\u001b[38;5;241m.\u001b[39mstrip())\n",
      "\u001b[1;31mIndexError\u001b[0m: list index out of range"
     ]
    }
   ],
   "source": [
    "useTime = ''\n",
    "suctionPow = ''\n",
    "for spec in specList:\n",
    "    if '사용시간' in spec:\n",
    "        useTime = spec\n",
    "    elif '흡입력' in spec:\n",
    "        suctionPow = spec\n",
    "\n",
    "print(useTime.split(' ')[1].strip())\n",
    "print(suctionPow.split(' ')[1].strip()) # 흡입력이 없어서 ''경우는 split(' ')에서 예외발생"
   ]
  },
  {
   "cell_type": "code",
   "execution_count": 156,
   "metadata": {},
   "outputs": [
    {
     "data": {
      "text/plain": [
       "'핸디스틱청소기 / 무선 / 흡입+물걸레(동시) / 흡입력: 250W / 소비전력: 620W / 2023년형 / [구성] 거치대: 올인원타워 / 먼지비움 / 충전 / UVC LED / 액서서리수납 / 스탠드거치 / 먼지비움시간: 30초 / 브러쉬: 와이드바닥 / 물걸레: 스팀, 고온, 일반 / 솔형 / 틈새 / 먼지봉투: 2.5L / [배터리] 사용시간: 30분(최대) / 충전시간: 4시간 / 분리형(2개) / 리튬이온 / 25.2V / [청소] 싸이클론흡입 / LED라이트 / 자동물공급 / 스마트인버터모터 / [부가] 스마트폰제어 / 대화형알림창 / 워셔블헤파필터 / 5단계여과 / 색상: 카밍베이지 / 무게: 2.47kg / 크기(가로x세로x깊이): 300x1120x245mm'"
      ]
     },
     "execution_count": 156,
     "metadata": {},
     "output_type": "execute_result"
    }
   ],
   "source": [
    "dfProdDanawa.loc[0, '제품스펙']"
   ]
  },
  {
   "cell_type": "code",
   "execution_count": 162,
   "metadata": {},
   "outputs": [],
   "source": [
    "## 위의 테스트를 기반으로 카테고리, 사용시간, 흡입력 추출\n",
    "categoryList = []\n",
    "useTimeList = []\n",
    "suctionPowList = []\n",
    "count = 0\n",
    "\n",
    "for spec in dfProdDanawa['제품스펙']:\n",
    "    # ' / '로 문자열 분리\n",
    "    specList = spec.split(' / ')\n",
    "    # 카테고리 추출\n",
    "    category = specList[0]\n",
    "    categoryList.append(category)\n",
    "    # 사용시간, 흡입력 추출\n",
    "    useTimeVal = None\n",
    "    suctionPowVal = None\n",
    "\n",
    "    for temp in specList:\n",
    "        if '사용시간' in temp:\n",
    "            useTimeVal = temp.replace('[배터리] ', '') # 1. [배터리]가 값 오류 발생시킴\n",
    "        elif '흡입력' in temp:\n",
    "            suctionPowVal = temp\n",
    "\n",
    "    # 끝난 다음에도 사용시간, 흡입력이 None이면 스펙에 찾을값이 없었음\n",
    "    if useTimeVal != None:\n",
    "        useTime = useTimeVal.split(' ')[1].strip().replace('(최대)', '') # 2. (최대) 삭제\n",
    "    else:\n",
    "        useTime = ''\n",
    "\n",
    "    if suctionPowVal != None:\n",
    "        suctionPow = suctionPowVal.split(' ')[1].strip()\n",
    "    else:\n",
    "        suctionPow = ''\n",
    "\n",
    "    useTimeList.append(useTime)\n",
    "    suctionPowList.append(suctionPow)\n",
    "    count += 1\n",
    "    # print(count)"
   ]
  },
  {
   "cell_type": "code",
   "execution_count": 170,
   "metadata": {},
   "outputs": [
    {
     "data": {
      "text/plain": [
       "2057"
      ]
     },
     "execution_count": 170,
     "metadata": {},
     "output_type": "execute_result"
    }
   ],
   "source": [
    "len(categoryList)"
   ]
  },
  {
   "cell_type": "code",
   "execution_count": 172,
   "metadata": {},
   "outputs": [
    {
     "data": {
      "text/plain": [
       "2057"
      ]
     },
     "execution_count": 172,
     "metadata": {},
     "output_type": "execute_result"
    }
   ],
   "source": [
    "len(suctionPowList)"
   ]
  },
  {
   "cell_type": "code",
   "execution_count": 176,
   "metadata": {},
   "outputs": [
    {
     "data": {
      "text/plain": [
       "['30분',\n",
       " '1시간',\n",
       " '',\n",
       " '30분',\n",
       " '1시간',\n",
       " '1시간',\n",
       " '30분',\n",
       " '1시간',\n",
       " '50분',\n",
       " '50분',\n",
       " '1시간30분',\n",
       " '1시간',\n",
       " '30분',\n",
       " '50분',\n",
       " '1시간',\n",
       " '12분',\n",
       " '30분',\n",
       " '1시간',\n",
       " '1시간',\n",
       " '1시간20분',\n",
       " '1시간',\n",
       " '1시간',\n",
       " '30분',\n",
       " '1시간',\n",
       " '1시간',\n",
       " '30분',\n",
       " '43분',\n",
       " '43분',\n",
       " '1시간',\n",
       " '1시간',\n",
       " '40분',\n",
       " '53분',\n",
       " '40분',\n",
       " '1시간',\n",
       " '1시간',\n",
       " '1시간',\n",
       " '1시간',\n",
       " '50분',\n",
       " '20분',\n",
       " '10~15분',\n",
       " '1시간',\n",
       " '1시간',\n",
       " '30분',\n",
       " '30분',\n",
       " '45분',\n",
       " '',\n",
       " '18분',\n",
       " '1시간',\n",
       " '1시간',\n",
       " '30분',\n",
       " '40분',\n",
       " '42분',\n",
       " '1시간',\n",
       " '50분',\n",
       " '1시간',\n",
       " '50분',\n",
       " '30분',\n",
       " '60분',\n",
       " '30분',\n",
       " '32분',\n",
       " '1시간',\n",
       " '1시간',\n",
       " '30분',\n",
       " '30분',\n",
       " '1시간40분',\n",
       " '1시간',\n",
       " '1시간',\n",
       " '30분',\n",
       " '1시간',\n",
       " '1시간20분',\n",
       " '1시간',\n",
       " '1시간',\n",
       " '30분',\n",
       " '30분',\n",
       " '30분',\n",
       " '1시간',\n",
       " '40분',\n",
       " '30분',\n",
       " '40분',\n",
       " '30분',\n",
       " '30분',\n",
       " '30분',\n",
       " '30분',\n",
       " '1시간',\n",
       " '30분',\n",
       " '1시간',\n",
       " '',\n",
       " '57분',\n",
       " '1시간',\n",
       " '1시간',\n",
       " '1시간',\n",
       " '1시간',\n",
       " '1시간',\n",
       " '1시간',\n",
       " '1시간',\n",
       " '35분',\n",
       " '20분',\n",
       " '50분',\n",
       " '40분',\n",
       " '45분',\n",
       " '45분',\n",
       " '30분',\n",
       " '40분',\n",
       " '1시간20분(대용량배터리기준)',\n",
       " '20분',\n",
       " '40분',\n",
       " '40분',\n",
       " '',\n",
       " '40분',\n",
       " '45분',\n",
       " '50분',\n",
       " '42분',\n",
       " '1시간',\n",
       " '1시간',\n",
       " '20분',\n",
       " '1시간',\n",
       " '28분',\n",
       " '20분',\n",
       " '50분',\n",
       " '1시간10분',\n",
       " '',\n",
       " '1시간',\n",
       " '1시간',\n",
       " '40분',\n",
       " '1시간',\n",
       " '50분',\n",
       " '44분',\n",
       " '62분',\n",
       " '50분',\n",
       " '1시간',\n",
       " '50분',\n",
       " '45분',\n",
       " '1시간',\n",
       " '1시간',\n",
       " '50분',\n",
       " '35분',\n",
       " '45분',\n",
       " '35분',\n",
       " '1시간5분',\n",
       " '50분',\n",
       " '50분',\n",
       " '1시간',\n",
       " '',\n",
       " '25분',\n",
       " '40분',\n",
       " '1시간',\n",
       " '48분',\n",
       " '40분',\n",
       " '40분',\n",
       " '50분',\n",
       " '1시간',\n",
       " '9분',\n",
       " '30분',\n",
       " '20분',\n",
       " '',\n",
       " '1시간18분',\n",
       " '9분',\n",
       " '45분',\n",
       " '1시간5분',\n",
       " '48분',\n",
       " '1시간',\n",
       " '10분',\n",
       " '1시간',\n",
       " '55분',\n",
       " '1시간',\n",
       " '1시간40분',\n",
       " '45분',\n",
       " '53분',\n",
       " '',\n",
       " '1시간20분(대용량배터리기준)',\n",
       " '1시간20분',\n",
       " '30분',\n",
       " '50분',\n",
       " '12분',\n",
       " '35분',\n",
       " '1시간',\n",
       " '33분',\n",
       " '',\n",
       " '',\n",
       " '40분',\n",
       " '50분',\n",
       " '',\n",
       " '30분',\n",
       " '1시간',\n",
       " '53분',\n",
       " '1시간20분(대용량배터리기준)',\n",
       " '32분',\n",
       " '30분',\n",
       " '10분',\n",
       " '8~12분',\n",
       " '45분',\n",
       " '75분',\n",
       " '30분',\n",
       " '40분',\n",
       " '40분',\n",
       " '40분',\n",
       " '30분',\n",
       " '1시간',\n",
       " '20분',\n",
       " '40분',\n",
       " '35분',\n",
       " '30분',\n",
       " '1시간',\n",
       " '2시간30분',\n",
       " '33분',\n",
       " '15분',\n",
       " '62분',\n",
       " '1시간10분',\n",
       " '4시간',\n",
       " '35분',\n",
       " '30분',\n",
       " '1시간',\n",
       " '1시간',\n",
       " '22분',\n",
       " '1시간40분',\n",
       " '40분',\n",
       " '30분',\n",
       " '1시간',\n",
       " '1시간',\n",
       " '20분',\n",
       " '',\n",
       " '20분',\n",
       " '',\n",
       " '20분',\n",
       " '50분',\n",
       " '35분',\n",
       " '35분',\n",
       " '30분',\n",
       " '',\n",
       " '50분',\n",
       " '30분',\n",
       " '26분',\n",
       " '35분',\n",
       " '30분',\n",
       " '40분',\n",
       " '48분',\n",
       " '40분',\n",
       " '50분',\n",
       " '45분',\n",
       " '35분',\n",
       " '30분',\n",
       " '42분',\n",
       " '35분',\n",
       " '28분',\n",
       " '',\n",
       " '1시간',\n",
       " '',\n",
       " '1시간',\n",
       " '33분',\n",
       " '',\n",
       " '50분',\n",
       " '',\n",
       " '12분',\n",
       " '1시간',\n",
       " '1시간',\n",
       " '20분',\n",
       " '40분',\n",
       " '',\n",
       " '1시간',\n",
       " '50분',\n",
       " '53분',\n",
       " '',\n",
       " '25분',\n",
       " '12분',\n",
       " '45분',\n",
       " '35분',\n",
       " '30분',\n",
       " '45분',\n",
       " '1시간30분',\n",
       " '40분',\n",
       " '1시간',\n",
       " '20분',\n",
       " '40분',\n",
       " '45분',\n",
       " '30분',\n",
       " '35분',\n",
       " '35분',\n",
       " '50분',\n",
       " '30분',\n",
       " '33분',\n",
       " '1시간22분',\n",
       " '40분',\n",
       " '48분',\n",
       " '1시간10분',\n",
       " '10분',\n",
       " '50분',\n",
       " '',\n",
       " '40분',\n",
       " '25분',\n",
       " '4시간',\n",
       " '45분',\n",
       " '40분',\n",
       " '40분',\n",
       " '15분',\n",
       " '50분',\n",
       " '40분',\n",
       " '1시간',\n",
       " '30분',\n",
       " '25분',\n",
       " '60분',\n",
       " '45분',\n",
       " '1시간',\n",
       " '18분',\n",
       " '1시간40분',\n",
       " '40분',\n",
       " '14분',\n",
       " '30분',\n",
       " '1시간',\n",
       " '48분',\n",
       " '50분',\n",
       " '30분',\n",
       " '38분',\n",
       " '1시간',\n",
       " '11분',\n",
       " '55분',\n",
       " '',\n",
       " '40분',\n",
       " '50분',\n",
       " '1시간',\n",
       " '33분',\n",
       " '1시간',\n",
       " '30분',\n",
       " '45분',\n",
       " '35분',\n",
       " '40분',\n",
       " '20분',\n",
       " '30분',\n",
       " '30분',\n",
       " '',\n",
       " '11분',\n",
       " '35분',\n",
       " '30분',\n",
       " '40분',\n",
       " '1시간',\n",
       " '1시간',\n",
       " '1시간20분',\n",
       " '35분',\n",
       " '9분',\n",
       " '1시간10분',\n",
       " '50분',\n",
       " '40분',\n",
       " '20분',\n",
       " '42분',\n",
       " '',\n",
       " '30분',\n",
       " '30분',\n",
       " '28분',\n",
       " '40분',\n",
       " '',\n",
       " '50분',\n",
       " '35분',\n",
       " '40분',\n",
       " '13분29초',\n",
       " '1시간10분',\n",
       " '1시간',\n",
       " '33분',\n",
       " '1시간',\n",
       " '53분',\n",
       " '30분',\n",
       " '40분',\n",
       " '15분',\n",
       " '22분',\n",
       " '40분',\n",
       " '1시간',\n",
       " '20분',\n",
       " '42분',\n",
       " '30분',\n",
       " '57분',\n",
       " '46분',\n",
       " '20분',\n",
       " '20분',\n",
       " '',\n",
       " '20분',\n",
       " '53분',\n",
       " '35분',\n",
       " '45분',\n",
       " '2시간',\n",
       " '2시간',\n",
       " '1시간',\n",
       " '1시간',\n",
       " '1시간',\n",
       " '45분',\n",
       " '',\n",
       " '',\n",
       " '30분',\n",
       " '25분',\n",
       " '1시간30분',\n",
       " '',\n",
       " '1시간',\n",
       " '50분',\n",
       " '48분',\n",
       " '45분',\n",
       " '45분',\n",
       " '30분',\n",
       " '30분',\n",
       " '1시간',\n",
       " '38분',\n",
       " '1시간',\n",
       " '35분',\n",
       " '30분',\n",
       " '3시간',\n",
       " '50분',\n",
       " '50분',\n",
       " '40분',\n",
       " '45분',\n",
       " '40분',\n",
       " '17분',\n",
       " '30분',\n",
       " '1시간30분',\n",
       " '1시간',\n",
       " '40분',\n",
       " '',\n",
       " '50분',\n",
       " '50분',\n",
       " '35분',\n",
       " '30분',\n",
       " '27분',\n",
       " '20분',\n",
       " '',\n",
       " '30분',\n",
       " '50분',\n",
       " '20분',\n",
       " '1시간',\n",
       " '1시간',\n",
       " '30분',\n",
       " '1시간',\n",
       " '30분',\n",
       " '30분',\n",
       " '40분',\n",
       " '50분',\n",
       " '48분',\n",
       " '20분',\n",
       " '40분',\n",
       " '',\n",
       " '30분',\n",
       " '40분',\n",
       " '',\n",
       " '1시간',\n",
       " '35분',\n",
       " '35분',\n",
       " '40분',\n",
       " '53분',\n",
       " '1시간',\n",
       " '1시간',\n",
       " '1시간',\n",
       " '30분',\n",
       " '',\n",
       " '48분',\n",
       " '30분',\n",
       " '40분',\n",
       " '30분',\n",
       " '45분',\n",
       " '28분',\n",
       " '',\n",
       " '',\n",
       " '30분',\n",
       " '20분',\n",
       " '45분',\n",
       " '15분',\n",
       " '20분',\n",
       " '40분',\n",
       " '30분',\n",
       " '1시간10분',\n",
       " '30분',\n",
       " '1시간',\n",
       " '25분',\n",
       " '42분',\n",
       " '35분',\n",
       " '1시간',\n",
       " '40분',\n",
       " '40분',\n",
       " '40분',\n",
       " '25분',\n",
       " '40분',\n",
       " '45분',\n",
       " '48분',\n",
       " '',\n",
       " '',\n",
       " '50분',\n",
       " '40분',\n",
       " '30분',\n",
       " '45분',\n",
       " '1시간',\n",
       " '1시간',\n",
       " '35분',\n",
       " '물걸레:',\n",
       " '1시간',\n",
       " '12분',\n",
       " '',\n",
       " '1시간5분',\n",
       " '40분',\n",
       " '50분',\n",
       " '60분',\n",
       " '',\n",
       " '28분',\n",
       " '30분',\n",
       " '20분',\n",
       " '30분',\n",
       " '17분',\n",
       " '',\n",
       " '30분',\n",
       " '',\n",
       " '2시간30분',\n",
       " '1시간',\n",
       " '40분',\n",
       " '30분',\n",
       " '35분',\n",
       " '50분',\n",
       " '',\n",
       " '1시간10분',\n",
       " '35분',\n",
       " '1시간',\n",
       " '1시간',\n",
       " '30분',\n",
       " '60분',\n",
       " '1시간',\n",
       " '45분',\n",
       " '50분',\n",
       " '53분',\n",
       " '30분',\n",
       " '3시간',\n",
       " '',\n",
       " '35분',\n",
       " '35분',\n",
       " '',\n",
       " '40분',\n",
       " '40분',\n",
       " '40분',\n",
       " '25분',\n",
       " '1시간',\n",
       " '1시간',\n",
       " '1시간',\n",
       " '1시간30분',\n",
       " '35분',\n",
       " '45분',\n",
       " '',\n",
       " '45분',\n",
       " '45분',\n",
       " '50분',\n",
       " '35분',\n",
       " '40분',\n",
       " '42분',\n",
       " '',\n",
       " '35분',\n",
       " '20분',\n",
       " '40분',\n",
       " '1시간',\n",
       " '1시간',\n",
       " '40분',\n",
       " '25분',\n",
       " '1시간',\n",
       " '50분',\n",
       " '45분',\n",
       " '',\n",
       " '53분',\n",
       " '1시간',\n",
       " '1시간',\n",
       " '42분',\n",
       " '',\n",
       " '20분',\n",
       " '60분',\n",
       " '11분',\n",
       " '30분',\n",
       " '1시간',\n",
       " '1시간',\n",
       " '55분',\n",
       " '50분',\n",
       " '',\n",
       " '50분',\n",
       " '30분',\n",
       " '30분',\n",
       " '1시간',\n",
       " '2시간',\n",
       " '',\n",
       " '40분',\n",
       " '23분',\n",
       " '10분',\n",
       " '50분',\n",
       " '40분',\n",
       " '1시간',\n",
       " '50분',\n",
       " '',\n",
       " '40분',\n",
       " '45분',\n",
       " '40분',\n",
       " '30분',\n",
       " '45분',\n",
       " '1시간30분',\n",
       " '45분',\n",
       " '20분',\n",
       " '30분',\n",
       " '26분',\n",
       " '',\n",
       " '1시간',\n",
       " '20분',\n",
       " '30분',\n",
       " '30분',\n",
       " '1시간',\n",
       " '40분',\n",
       " '40분',\n",
       " '40분',\n",
       " '1시간',\n",
       " '1시간',\n",
       " '15분',\n",
       " '40분',\n",
       " '45분',\n",
       " '29분',\n",
       " '42분',\n",
       " '1시간20분',\n",
       " '50분',\n",
       " '20분',\n",
       " '1시간',\n",
       " '1시간10분',\n",
       " '',\n",
       " '55분',\n",
       " '30분',\n",
       " '20~30분',\n",
       " '40분',\n",
       " '1시간',\n",
       " '40분',\n",
       " '35분',\n",
       " '50분',\n",
       " '흡입',\n",
       " '60분',\n",
       " '',\n",
       " '',\n",
       " '50분',\n",
       " '30분',\n",
       " '1시간',\n",
       " '33분',\n",
       " '20분',\n",
       " '35분',\n",
       " '1시간30분',\n",
       " '',\n",
       " '1시간',\n",
       " '25분',\n",
       " '30분',\n",
       " '40분',\n",
       " '14~20분',\n",
       " '30분',\n",
       " '45분',\n",
       " '50분(흡입),',\n",
       " '1시간',\n",
       " '1시간',\n",
       " '1시간',\n",
       " '1시간',\n",
       " '1시간50분',\n",
       " '30분',\n",
       " '23분',\n",
       " '20분',\n",
       " '1시간',\n",
       " '20분',\n",
       " '1시간',\n",
       " '1시간',\n",
       " '35분',\n",
       " '1시간',\n",
       " '30분',\n",
       " '40분',\n",
       " '1시간',\n",
       " '35분',\n",
       " '30분',\n",
       " '1시간',\n",
       " '40분',\n",
       " '45분',\n",
       " '35분',\n",
       " '30분',\n",
       " '45분',\n",
       " '60분',\n",
       " '30분',\n",
       " '40분',\n",
       " '30분',\n",
       " '40분',\n",
       " '20분',\n",
       " '48분',\n",
       " '1시간',\n",
       " '1시간',\n",
       " '2시간',\n",
       " '2시간',\n",
       " '20분',\n",
       " '18분',\n",
       " '30분',\n",
       " '30분',\n",
       " '55분',\n",
       " '1시간',\n",
       " '40분',\n",
       " '40분',\n",
       " '50분',\n",
       " '35분',\n",
       " '1시간',\n",
       " '40분',\n",
       " '40분',\n",
       " '45분',\n",
       " '1시간',\n",
       " '45분',\n",
       " '1시간',\n",
       " '40분',\n",
       " '7~10분',\n",
       " '',\n",
       " '30분',\n",
       " '40분',\n",
       " '30분',\n",
       " '1시간',\n",
       " '1시간',\n",
       " '40분',\n",
       " '40분',\n",
       " '45분',\n",
       " '3시간',\n",
       " '',\n",
       " '40분',\n",
       " '30분',\n",
       " '1시간',\n",
       " '35분',\n",
       " '1시간',\n",
       " '50분',\n",
       " '2시간30분',\n",
       " '1시간',\n",
       " '30분',\n",
       " '45분',\n",
       " '12분',\n",
       " '25분',\n",
       " '35분',\n",
       " '노멀모드:23분,',\n",
       " '35분',\n",
       " '25분',\n",
       " '2시간30분',\n",
       " '50분',\n",
       " '',\n",
       " '1시간20분',\n",
       " '1시간',\n",
       " '1시간',\n",
       " '',\n",
       " '1시간',\n",
       " '1시간20분',\n",
       " '40분',\n",
       " '50분',\n",
       " '30분',\n",
       " '35분',\n",
       " '23분',\n",
       " '40분',\n",
       " '40분',\n",
       " '',\n",
       " '30분',\n",
       " '2시간',\n",
       " '2시간30분',\n",
       " '사용시간:',\n",
       " '30분',\n",
       " '2시간30분',\n",
       " '1시간',\n",
       " '30분',\n",
       " '40분',\n",
       " '25분',\n",
       " '30분',\n",
       " '30분',\n",
       " '1시간',\n",
       " '1시간',\n",
       " '1시간',\n",
       " '45분',\n",
       " '45분',\n",
       " '30분',\n",
       " '55분',\n",
       " '1시간',\n",
       " '1시간',\n",
       " '40분',\n",
       " '30분',\n",
       " '1시간',\n",
       " '40분',\n",
       " '',\n",
       " '45분',\n",
       " '1시간',\n",
       " '40분',\n",
       " '물걸레:',\n",
       " '25분',\n",
       " '15분',\n",
       " '50분',\n",
       " '1시간',\n",
       " '42분',\n",
       " '1시간',\n",
       " '1시간30분',\n",
       " '50분',\n",
       " '20분',\n",
       " '30분',\n",
       " '1시간',\n",
       " '1시간',\n",
       " '40분',\n",
       " '40분',\n",
       " '40분',\n",
       " '45분',\n",
       " '45분',\n",
       " '1시간',\n",
       " '',\n",
       " '',\n",
       " '',\n",
       " '',\n",
       " '45분',\n",
       " '1시간',\n",
       " '',\n",
       " '33분',\n",
       " '30분',\n",
       " '35분',\n",
       " '1시간',\n",
       " '35분',\n",
       " '40분',\n",
       " '45분',\n",
       " '35분',\n",
       " '35분',\n",
       " '2시간',\n",
       " '35분',\n",
       " '30분',\n",
       " '50분',\n",
       " '1시간',\n",
       " '20분',\n",
       " '',\n",
       " '15분',\n",
       " '',\n",
       " '50분',\n",
       " '25분',\n",
       " '40분',\n",
       " '',\n",
       " '1시간',\n",
       " '35분',\n",
       " '30분',\n",
       " '40분',\n",
       " '20~30분',\n",
       " '40분',\n",
       " '',\n",
       " '40분',\n",
       " '',\n",
       " '10분',\n",
       " '40분',\n",
       " '30분',\n",
       " '1시간10분',\n",
       " '30분',\n",
       " '1시간',\n",
       " '30분',\n",
       " '55분',\n",
       " '1시간',\n",
       " '1시간',\n",
       " '35분',\n",
       " '30분',\n",
       " '2시간',\n",
       " '25분',\n",
       " '',\n",
       " '20분',\n",
       " '25분',\n",
       " '1시간',\n",
       " '35분',\n",
       " '1시간',\n",
       " '1시간',\n",
       " '1시간',\n",
       " '26분',\n",
       " '1시간',\n",
       " '8~10분',\n",
       " '20분',\n",
       " '30분',\n",
       " '45분',\n",
       " '1시간',\n",
       " '40분',\n",
       " '1시간',\n",
       " '30분',\n",
       " '',\n",
       " '30분',\n",
       " '',\n",
       " '1시간',\n",
       " '40분',\n",
       " '40분',\n",
       " '',\n",
       " '30분',\n",
       " '1시간22분',\n",
       " '30분',\n",
       " '1시간',\n",
       " '50분',\n",
       " '25분',\n",
       " '1시간',\n",
       " '30분',\n",
       " '1시간',\n",
       " '',\n",
       " '27분',\n",
       " '1시간',\n",
       " '',\n",
       " '1시간',\n",
       " '1시간',\n",
       " '25분',\n",
       " '20~30분',\n",
       " '30분',\n",
       " '1시간',\n",
       " '25분',\n",
       " '',\n",
       " '30분',\n",
       " '30분',\n",
       " '40분',\n",
       " '',\n",
       " '30분',\n",
       " '',\n",
       " '1시간',\n",
       " '34분',\n",
       " '1시간',\n",
       " '53분',\n",
       " '1시간',\n",
       " '25분~40분',\n",
       " '1시간',\n",
       " '30분',\n",
       " '30분',\n",
       " '4시간',\n",
       " '20분',\n",
       " '1시간',\n",
       " '25분',\n",
       " '40분',\n",
       " '40분',\n",
       " '',\n",
       " '1시간',\n",
       " '30분',\n",
       " '40분',\n",
       " '1시간',\n",
       " '25분',\n",
       " '24분',\n",
       " '1시간40분',\n",
       " '',\n",
       " '1시간',\n",
       " '30분',\n",
       " '45분',\n",
       " '35분',\n",
       " '1시간',\n",
       " '40분',\n",
       " '40분',\n",
       " '40분',\n",
       " '50분',\n",
       " '40분',\n",
       " '',\n",
       " '1시간',\n",
       " '35분',\n",
       " '30분',\n",
       " '55분',\n",
       " '7~10분',\n",
       " '1시간',\n",
       " '40분',\n",
       " '25분',\n",
       " '50분',\n",
       " '30분',\n",
       " '40분',\n",
       " '50분',\n",
       " '40분',\n",
       " '1시간30분~2시간',\n",
       " '24분',\n",
       " '50분',\n",
       " '38분',\n",
       " '30분',\n",
       " '',\n",
       " '37분',\n",
       " '1시간',\n",
       " '1시간',\n",
       " '',\n",
       " '1시간30분',\n",
       " '',\n",
       " '1시간15분',\n",
       " '1시간',\n",
       " '1시간30분',\n",
       " '1시간',\n",
       " '25분',\n",
       " '30분',\n",
       " '16분',\n",
       " '2시간20분',\n",
       " '40분',\n",
       " '1시간',\n",
       " '10분',\n",
       " '20분',\n",
       " '1시간',\n",
       " '20분',\n",
       " '30분',\n",
       " '20분',\n",
       " '20분',\n",
       " '',\n",
       " '32분',\n",
       " '31분',\n",
       " '1시간',\n",
       " '60분',\n",
       " '12분',\n",
       " '35분',\n",
       " '1시간40분',\n",
       " '30분',\n",
       " '35분',\n",
       " '50분',\n",
       " '30분',\n",
       " '1시간',\n",
       " '35분',\n",
       " '25분',\n",
       " '물걸레:',\n",
       " '1시간',\n",
       " '45분',\n",
       " '30분',\n",
       " '60분',\n",
       " '',\n",
       " '5분~10분',\n",
       " '1시간',\n",
       " '35분',\n",
       " '20분',\n",
       " '1시간',\n",
       " '24분',\n",
       " '40분',\n",
       " '',\n",
       " '40분',\n",
       " ...]"
      ]
     },
     "execution_count": 176,
     "metadata": {},
     "output_type": "execute_result"
    }
   ],
   "source": [
    "useTimeList"
   ]
  },
  {
   "cell_type": "code",
   "execution_count": 184,
   "metadata": {},
   "outputs": [
    {
     "data": {
      "text/plain": [
       "'20'"
      ]
     },
     "execution_count": 184,
     "metadata": {},
     "output_type": "execute_result"
    }
   ],
   "source": [
    "time = '1시간20분'\n",
    "time.split('시간')[-1].split('분')[0]"
   ]
  },
  {
   "cell_type": "code",
   "execution_count": 194,
   "metadata": {},
   "outputs": [],
   "source": [
    "## 사용시간 단위를 통일, \n",
    "# time = '1시간' ,'30분', '1시간20분'\n",
    "def convertHourToMin(time):\n",
    "    try:\n",
    "        if '시간' in time:\n",
    "            hour = time.split('시간')[0]\n",
    "            if '분' in time:\n",
    "                minute = time.split('시간')[-1].split('분')[0]\n",
    "            else:\n",
    "                minute = 0\n",
    "        else:\n",
    "            hour = 0\n",
    "            minute = time.split('분')[0]\n",
    "        return int(hour)*60 + int(minute)\n",
    "    except:\n",
    "        return None"
   ]
  },
  {
   "cell_type": "code",
   "execution_count": 196,
   "metadata": {},
   "outputs": [],
   "source": [
    "newUseTimeList = []\n",
    "for time in useTimeList:\n",
    "    value = convertHourToMin(time)\n",
    "    newUseTimeList.append(value)"
   ]
  },
  {
   "cell_type": "code",
   "execution_count": 199,
   "metadata": {},
   "outputs": [
    {
     "data": {
      "text/plain": [
       "2057"
      ]
     },
     "execution_count": 199,
     "metadata": {},
     "output_type": "execute_result"
    }
   ],
   "source": [
    "len(newUseTimeList)"
   ]
  },
  {
   "cell_type": "code",
   "execution_count": 205,
   "metadata": {},
   "outputs": [],
   "source": [
    "## 흡입력 단위 통일 1W = 1AW = 100pa\n",
    "def convertPow(value):\n",
    "    try:\n",
    "        value = value.upper()\n",
    "        if 'AW' in value or 'W' in value:\n",
    "            result = value.replace('A', '').replace('W', '').replace(',', '') # A도 삭제, W도 삭제, 1000단위 쉼표 삭제\n",
    "            result = int(result)\n",
    "        elif 'PA' in value:\n",
    "            result = value.replace('PA', '').replace(',', '')  #PA 삭제, 1000단위 쉼표 삭제\n",
    "            result = int(result) // 100\n",
    "        else:\n",
    "            result = None\n",
    "        \n",
    "        return result\n",
    "    except:\n",
    "        return None"
   ]
  },
  {
   "cell_type": "code",
   "execution_count": 207,
   "metadata": {},
   "outputs": [],
   "source": [
    "newSuctionList = []\n",
    "for power in suctionPowList:\n",
    "    value = convertPow(power)\n",
    "    newSuctionList.append(value)"
   ]
  },
  {
   "cell_type": "code",
   "execution_count": 210,
   "metadata": {},
   "outputs": [
    {
     "data": {
      "text/plain": [
       "2057"
      ]
     },
     "execution_count": 210,
     "metadata": {},
     "output_type": "execute_result"
    }
   ],
   "source": [
    "len(newSuctionList)"
   ]
  },
  {
   "cell_type": "code",
   "execution_count": 211,
   "metadata": {},
   "outputs": [],
   "source": [
    "# 최종 데이터 엑셀 저장\n",
    "dfLast = pd.DataFrame()\n",
    "dfLast['카테고리'] = categoryList\n",
    "dfLast['회사명'] = compList\n",
    "dfLast['제품명'] = modelList\n",
    "dfLast['가격'] = dfProdDanawa['최저가']\n",
    "dfLast['사용시간'] = newUseTimeList\n",
    "dfLast['흡입력'] = newSuctionList"
   ]
  },
  {
   "cell_type": "code",
   "execution_count": 213,
   "metadata": {},
   "outputs": [
    {
     "data": {
      "text/html": [
       "<div>\n",
       "<style scoped>\n",
       "    .dataframe tbody tr th:only-of-type {\n",
       "        vertical-align: middle;\n",
       "    }\n",
       "\n",
       "    .dataframe tbody tr th {\n",
       "        vertical-align: top;\n",
       "    }\n",
       "\n",
       "    .dataframe thead th {\n",
       "        text-align: right;\n",
       "    }\n",
       "</style>\n",
       "<table border=\"1\" class=\"dataframe\">\n",
       "  <thead>\n",
       "    <tr style=\"text-align: right;\">\n",
       "      <th></th>\n",
       "      <th>카테고리</th>\n",
       "      <th>회사명</th>\n",
       "      <th>제품명</th>\n",
       "      <th>가격</th>\n",
       "      <th>사용시간</th>\n",
       "      <th>흡입력</th>\n",
       "    </tr>\n",
       "  </thead>\n",
       "  <tbody>\n",
       "    <tr>\n",
       "      <th>2052</th>\n",
       "      <td>차량용청소기</td>\n",
       "      <td>미니센</td>\n",
       "      <td>무선 소형 청소기 MNC-100 노즐 세트</td>\n",
       "      <td>7000</td>\n",
       "      <td>NaN</td>\n",
       "      <td>NaN</td>\n",
       "    </tr>\n",
       "    <tr>\n",
       "      <th>2053</th>\n",
       "      <td>차량용청소기</td>\n",
       "      <td>미니센</td>\n",
       "      <td>무선 소형 청소기 MNC-100 먼지통</td>\n",
       "      <td>7000</td>\n",
       "      <td>NaN</td>\n",
       "      <td>NaN</td>\n",
       "    </tr>\n",
       "    <tr>\n",
       "      <th>2054</th>\n",
       "      <td>차량용청소기</td>\n",
       "      <td>프리라벨</td>\n",
       "      <td>2in1 무선 진공 청소기 LS-2000 헤파필터</td>\n",
       "      <td>3500</td>\n",
       "      <td>NaN</td>\n",
       "      <td>NaN</td>\n",
       "    </tr>\n",
       "    <tr>\n",
       "      <th>2055</th>\n",
       "      <td>침구청소기</td>\n",
       "      <td>포쉬</td>\n",
       "      <td>워시젯 V2 WJ200</td>\n",
       "      <td>219000</td>\n",
       "      <td>25.0</td>\n",
       "      <td>NaN</td>\n",
       "    </tr>\n",
       "    <tr>\n",
       "      <th>2056</th>\n",
       "      <td>침구청소기</td>\n",
       "      <td>업킵</td>\n",
       "      <td>MJ-BC779</td>\n",
       "      <td>89900</td>\n",
       "      <td>NaN</td>\n",
       "      <td>NaN</td>\n",
       "    </tr>\n",
       "  </tbody>\n",
       "</table>\n",
       "</div>"
      ],
      "text/plain": [
       "        카테고리   회사명                          제품명      가격  사용시간  흡입력\n",
       "2052  차량용청소기   미니센      무선 소형 청소기 MNC-100 노즐 세트    7000   NaN  NaN\n",
       "2053  차량용청소기   미니센        무선 소형 청소기 MNC-100 먼지통    7000   NaN  NaN\n",
       "2054  차량용청소기  프리라벨  2in1 무선 진공 청소기 LS-2000 헤파필터    3500   NaN  NaN\n",
       "2055   침구청소기    포쉬                 워시젯 V2 WJ200  219000  25.0  NaN\n",
       "2056   침구청소기    업킵                     MJ-BC779   89900   NaN  NaN"
      ]
     },
     "execution_count": 213,
     "metadata": {},
     "output_type": "execute_result"
    }
   ],
   "source": [
    "dfLast.tail()"
   ]
  },
  {
   "cell_type": "code",
   "execution_count": 214,
   "metadata": {},
   "outputs": [],
   "source": [
    "dfLast.to_excel('./data/다나와_무선청소기_전처리결과.xlsx', index=False)"
   ]
  },
  {
   "cell_type": "markdown",
   "metadata": {},
   "source": [
    "##### 무선청소기 분석전 결측치 제거"
   ]
  },
  {
   "cell_type": "code",
   "execution_count": 223,
   "metadata": {},
   "outputs": [],
   "source": [
    "dfCleaner = pd.read_excel('./data/다나와_무선청소기_전처리결과.xlsx')"
   ]
  },
  {
   "cell_type": "code",
   "execution_count": 224,
   "metadata": {},
   "outputs": [
    {
     "name": "stdout",
     "output_type": "stream",
     "text": [
      "<class 'pandas.core.frame.DataFrame'>\n",
      "RangeIndex: 2057 entries, 0 to 2056\n",
      "Data columns (total 6 columns):\n",
      " #   Column  Non-Null Count  Dtype  \n",
      "---  ------  --------------  -----  \n",
      " 0   카테고리    2057 non-null   object \n",
      " 1   회사명     2057 non-null   object \n",
      " 2   제품명     2057 non-null   object \n",
      " 3   가격      2057 non-null   int64  \n",
      " 4   사용시간    1656 non-null   float64\n",
      " 5   흡입력     1052 non-null   float64\n",
      "dtypes: float64(2), int64(1), object(3)\n",
      "memory usage: 96.6+ KB\n"
     ]
    }
   ],
   "source": [
    "dfCleaner.info()"
   ]
  },
  {
   "cell_type": "code",
   "execution_count": 225,
   "metadata": {},
   "outputs": [],
   "source": [
    "# 회사명 빠진조건\n",
    "condition = dfCleaner['회사명'].isnull() == True"
   ]
  },
  {
   "cell_type": "code",
   "execution_count": 227,
   "metadata": {},
   "outputs": [
    {
     "data": {
      "text/html": [
       "<div>\n",
       "<style scoped>\n",
       "    .dataframe tbody tr th:only-of-type {\n",
       "        vertical-align: middle;\n",
       "    }\n",
       "\n",
       "    .dataframe tbody tr th {\n",
       "        vertical-align: top;\n",
       "    }\n",
       "\n",
       "    .dataframe thead th {\n",
       "        text-align: right;\n",
       "    }\n",
       "</style>\n",
       "<table border=\"1\" class=\"dataframe\">\n",
       "  <thead>\n",
       "    <tr style=\"text-align: right;\">\n",
       "      <th></th>\n",
       "      <th>카테고리</th>\n",
       "      <th>회사명</th>\n",
       "      <th>제품명</th>\n",
       "      <th>가격</th>\n",
       "      <th>사용시간</th>\n",
       "      <th>흡입력</th>\n",
       "    </tr>\n",
       "  </thead>\n",
       "  <tbody>\n",
       "  </tbody>\n",
       "</table>\n",
       "</div>"
      ],
      "text/plain": [
       "Empty DataFrame\n",
       "Columns: [카테고리, 회사명, 제품명, 가격, 사용시간, 흡입력]\n",
       "Index: []"
      ]
     },
     "execution_count": 227,
     "metadata": {},
     "output_type": "execute_result"
    }
   ],
   "source": [
    "## 회사명 빠진것 10건은 직접 수동으로 채워넣음\n",
    "dfCleaner[condition]"
   ]
  },
  {
   "cell_type": "code",
   "execution_count": 230,
   "metadata": {},
   "outputs": [],
   "source": [
    "## 사용시간, 흡입력 NaN인 것은 전부 0으로 채워넣기\n",
    "dfCleaner = dfCleaner.fillna(0)"
   ]
  },
  {
   "cell_type": "code",
   "execution_count": 232,
   "metadata": {},
   "outputs": [
    {
     "name": "stdout",
     "output_type": "stream",
     "text": [
      "<class 'pandas.core.frame.DataFrame'>\n",
      "RangeIndex: 2057 entries, 0 to 2056\n",
      "Data columns (total 6 columns):\n",
      " #   Column  Non-Null Count  Dtype  \n",
      "---  ------  --------------  -----  \n",
      " 0   카테고리    2057 non-null   object \n",
      " 1   회사명     2057 non-null   object \n",
      " 2   제품명     2057 non-null   object \n",
      " 3   가격      2057 non-null   int64  \n",
      " 4   사용시간    2057 non-null   float64\n",
      " 5   흡입력     2057 non-null   float64\n",
      "dtypes: float64(2), int64(1), object(3)\n",
      "memory usage: 96.6+ KB\n"
     ]
    }
   ],
   "source": [
    "dfCleaner.info()"
   ]
  },
  {
   "cell_type": "markdown",
   "metadata": {},
   "source": [
    "##### 필요제품 선별"
   ]
  },
  {
   "cell_type": "code",
   "execution_count": 234,
   "metadata": {},
   "outputs": [
    {
     "data": {
      "text/plain": [
       "카테고리\n",
       "핸디스틱청소기                1126\n",
       "차량용청소기                  304\n",
       "물걸레청소기                  217\n",
       "침구청소기                    90\n",
       "욕실청소기                    81\n",
       "업소용청소기                   58\n",
       "탁상용청소기                   52\n",
       "핸디스틱청소기+로봇청소기            34\n",
       "스틱청소기                    27\n",
       "진공청소기                    18\n",
       "창문청소기                    11\n",
       "수영장청소기                   10\n",
       "스팀청소기                     5\n",
       "로봇청소기                     5\n",
       "핸디/스틱청소기+핸디/스틱청소기         4\n",
       "카펫소파청소기                   4\n",
       "핸디스틱청소기+공기청정기세트           4\n",
       "욕실+물걸레청소기                 1\n",
       "핸디스틱청소기+핸디스틱청소기세트         1\n",
       "핸디스틱청소기+가습기세트             1\n",
       "핸디스틱청소기+공기청정기+가습기세트       1\n",
       "신발세척기                     1\n",
       "차량용선풍기                    1\n",
       "핸디스틱청소기+물걸레청소기세트          1\n",
       "Name: count, dtype: int64"
      ]
     },
     "execution_count": 234,
     "metadata": {},
     "output_type": "execute_result"
    }
   ],
   "source": [
    "# 카테고리별 제품 개수 -> 워드클라우드 가능\n",
    "dfCleaner['카테고리'].value_counts()"
   ]
  },
  {
   "cell_type": "code",
   "execution_count": 237,
   "metadata": {},
   "outputs": [
    {
     "data": {
      "text/plain": [
       "회사명\n",
       "삼성전자       144\n",
       "LG전자       131\n",
       "신일전자        88\n",
       "다이슨         75\n",
       "일렉트로룩스      66\n",
       "          ... \n",
       "에이치앤오        1\n",
       "아이리          1\n",
       "이나프          1\n",
       "다기능          1\n",
       "YINCHEN      1\n",
       "Name: count, Length: 519, dtype: int64"
      ]
     },
     "execution_count": 237,
     "metadata": {},
     "output_type": "execute_result"
    }
   ],
   "source": [
    "dfCleaner['회사명'].value_counts()"
   ]
  },
  {
   "cell_type": "code",
   "execution_count": 244,
   "metadata": {},
   "outputs": [
    {
     "data": {
      "text/html": [
       "<div>\n",
       "<style scoped>\n",
       "    .dataframe tbody tr th:only-of-type {\n",
       "        vertical-align: middle;\n",
       "    }\n",
       "\n",
       "    .dataframe tbody tr th {\n",
       "        vertical-align: top;\n",
       "    }\n",
       "\n",
       "    .dataframe thead th {\n",
       "        text-align: right;\n",
       "    }\n",
       "</style>\n",
       "<table border=\"1\" class=\"dataframe\">\n",
       "  <thead>\n",
       "    <tr style=\"text-align: right;\">\n",
       "      <th></th>\n",
       "      <th>회사명</th>\n",
       "      <th>count</th>\n",
       "    </tr>\n",
       "  </thead>\n",
       "  <tbody>\n",
       "    <tr>\n",
       "      <th>0</th>\n",
       "      <td>삼성전자</td>\n",
       "      <td>144</td>\n",
       "    </tr>\n",
       "    <tr>\n",
       "      <th>1</th>\n",
       "      <td>LG전자</td>\n",
       "      <td>131</td>\n",
       "    </tr>\n",
       "    <tr>\n",
       "      <th>2</th>\n",
       "      <td>신일전자</td>\n",
       "      <td>88</td>\n",
       "    </tr>\n",
       "    <tr>\n",
       "      <th>3</th>\n",
       "      <td>다이슨</td>\n",
       "      <td>75</td>\n",
       "    </tr>\n",
       "    <tr>\n",
       "      <th>4</th>\n",
       "      <td>일렉트로룩스</td>\n",
       "      <td>66</td>\n",
       "    </tr>\n",
       "  </tbody>\n",
       "</table>\n",
       "</div>"
      ],
      "text/plain": [
       "      회사명  count\n",
       "0    삼성전자    144\n",
       "1    LG전자    131\n",
       "2    신일전자     88\n",
       "3     다이슨     75\n",
       "4  일렉트로룩스     66"
      ]
     },
     "execution_count": 244,
     "metadata": {},
     "output_type": "execute_result"
    }
   ],
   "source": [
    "# TEST -> 워드클라우드 가능\n",
    "dfTest = pd.DataFrame( dfCleaner['회사명'].value_counts())\n",
    "dfTest.reset_index().head(5)"
   ]
  },
  {
   "cell_type": "code",
   "execution_count": 252,
   "metadata": {},
   "outputs": [],
   "source": [
    "## 핸드스틱청소기만 선택해서 분석\n",
    "dfDataFinal = dfCleaner[dfCleaner['카테고리'].isin(['핸디스틱청소기', '핸디스틱청소기+로봇청소기', '스틱청소기', '진공청소기'])]"
   ]
  },
  {
   "cell_type": "code",
   "execution_count": 253,
   "metadata": {},
   "outputs": [],
   "source": [
    "dfDataFinal.to_excel('./data/2_danawa_data_final.xlsx', index=False)"
   ]
  },
  {
   "cell_type": "markdown",
   "metadata": {},
   "source": [
    "##### 분석용 재로드"
   ]
  },
  {
   "cell_type": "code",
   "execution_count": 254,
   "metadata": {},
   "outputs": [],
   "source": [
    "dfDataFinal = pd.read_excel('./data/2_danawa_data_final.xlsx')"
   ]
  },
  {
   "cell_type": "code",
   "execution_count": 257,
   "metadata": {},
   "outputs": [
    {
     "data": {
      "text/html": [
       "<div>\n",
       "<style scoped>\n",
       "    .dataframe tbody tr th:only-of-type {\n",
       "        vertical-align: middle;\n",
       "    }\n",
       "\n",
       "    .dataframe tbody tr th {\n",
       "        vertical-align: top;\n",
       "    }\n",
       "\n",
       "    .dataframe thead th {\n",
       "        text-align: right;\n",
       "    }\n",
       "</style>\n",
       "<table border=\"1\" class=\"dataframe\">\n",
       "  <thead>\n",
       "    <tr style=\"text-align: right;\">\n",
       "      <th></th>\n",
       "      <th>카테고리</th>\n",
       "      <th>회사명</th>\n",
       "      <th>제품명</th>\n",
       "      <th>가격</th>\n",
       "      <th>사용시간</th>\n",
       "      <th>흡입력</th>\n",
       "    </tr>\n",
       "  </thead>\n",
       "  <tbody>\n",
       "    <tr>\n",
       "      <th>1200</th>\n",
       "      <td>진공청소기</td>\n",
       "      <td>LG전자</td>\n",
       "      <td>코드제로 T9 T960D</td>\n",
       "      <td>1523960</td>\n",
       "      <td>0</td>\n",
       "      <td>250</td>\n",
       "    </tr>\n",
       "    <tr>\n",
       "      <th>1201</th>\n",
       "      <td>진공청소기</td>\n",
       "      <td>LG전자</td>\n",
       "      <td>코드제로 싸이킹 K95</td>\n",
       "      <td>1359230</td>\n",
       "      <td>40</td>\n",
       "      <td>0</td>\n",
       "    </tr>\n",
       "    <tr>\n",
       "      <th>1202</th>\n",
       "      <td>진공청소기</td>\n",
       "      <td>마끼다</td>\n",
       "      <td>DCL501</td>\n",
       "      <td>761200</td>\n",
       "      <td>0</td>\n",
       "      <td>66</td>\n",
       "    </tr>\n",
       "    <tr>\n",
       "      <th>1203</th>\n",
       "      <td>진공청소기</td>\n",
       "      <td>LG전자</td>\n",
       "      <td>코드제로 T9 T960D</td>\n",
       "      <td>1523960</td>\n",
       "      <td>0</td>\n",
       "      <td>250</td>\n",
       "    </tr>\n",
       "    <tr>\n",
       "      <th>1204</th>\n",
       "      <td>진공청소기</td>\n",
       "      <td>LG전자</td>\n",
       "      <td>코드제로 싸이킹 K95</td>\n",
       "      <td>1359230</td>\n",
       "      <td>40</td>\n",
       "      <td>0</td>\n",
       "    </tr>\n",
       "  </tbody>\n",
       "</table>\n",
       "</div>"
      ],
      "text/plain": [
       "       카테고리   회사명            제품명       가격  사용시간  흡입력\n",
       "1200  진공청소기  LG전자  코드제로 T9 T960D  1523960     0  250\n",
       "1201  진공청소기  LG전자   코드제로 싸이킹 K95  1359230    40    0\n",
       "1202  진공청소기   마끼다         DCL501   761200     0   66\n",
       "1203  진공청소기  LG전자  코드제로 T9 T960D  1523960     0  250\n",
       "1204  진공청소기  LG전자   코드제로 싸이킹 K95  1359230    40    0"
      ]
     },
     "execution_count": 257,
     "metadata": {},
     "output_type": "execute_result"
    }
   ],
   "source": [
    "dfDataFinal.tail()"
   ]
  },
  {
   "cell_type": "code",
   "execution_count": 261,
   "metadata": {},
   "outputs": [
    {
     "data": {
      "text/html": [
       "<div>\n",
       "<style scoped>\n",
       "    .dataframe tbody tr th:only-of-type {\n",
       "        vertical-align: middle;\n",
       "    }\n",
       "\n",
       "    .dataframe tbody tr th {\n",
       "        vertical-align: top;\n",
       "    }\n",
       "\n",
       "    .dataframe thead th {\n",
       "        text-align: right;\n",
       "    }\n",
       "</style>\n",
       "<table border=\"1\" class=\"dataframe\">\n",
       "  <thead>\n",
       "    <tr style=\"text-align: right;\">\n",
       "      <th></th>\n",
       "      <th>카테고리</th>\n",
       "      <th>회사명</th>\n",
       "      <th>제품명</th>\n",
       "      <th>가격</th>\n",
       "      <th>사용시간</th>\n",
       "      <th>흡입력</th>\n",
       "    </tr>\n",
       "  </thead>\n",
       "  <tbody>\n",
       "    <tr>\n",
       "      <th>104</th>\n",
       "      <td>핸디스틱청소기</td>\n",
       "      <td>아이룸</td>\n",
       "      <td>윈드포스 F9</td>\n",
       "      <td>178000</td>\n",
       "      <td>40</td>\n",
       "      <td>420</td>\n",
       "    </tr>\n",
       "    <tr>\n",
       "      <th>334</th>\n",
       "      <td>핸디스틱청소기</td>\n",
       "      <td>비브르</td>\n",
       "      <td>V38 스페셜 에디션</td>\n",
       "      <td>195000</td>\n",
       "      <td>50</td>\n",
       "      <td>410</td>\n",
       "    </tr>\n",
       "    <tr>\n",
       "      <th>13</th>\n",
       "      <td>핸디스틱청소기</td>\n",
       "      <td>DIBEA</td>\n",
       "      <td>ALLNEW29000 PLUS</td>\n",
       "      <td>236550</td>\n",
       "      <td>50</td>\n",
       "      <td>400</td>\n",
       "    </tr>\n",
       "    <tr>\n",
       "      <th>128</th>\n",
       "      <td>핸디스틱청소기</td>\n",
       "      <td>DIBEA</td>\n",
       "      <td>ALLNEW22000+</td>\n",
       "      <td>199000</td>\n",
       "      <td>50</td>\n",
       "      <td>390</td>\n",
       "    </tr>\n",
       "    <tr>\n",
       "      <th>143</th>\n",
       "      <td>핸디스틱청소기</td>\n",
       "      <td>DIBEA</td>\n",
       "      <td>ALLNEW29000</td>\n",
       "      <td>249000</td>\n",
       "      <td>48</td>\n",
       "      <td>390</td>\n",
       "    </tr>\n",
       "  </tbody>\n",
       "</table>\n",
       "</div>"
      ],
      "text/plain": [
       "        카테고리    회사명               제품명      가격  사용시간  흡입력\n",
       "104  핸디스틱청소기    아이룸           윈드포스 F9  178000    40  420\n",
       "334  핸디스틱청소기    비브르       V38 스페셜 에디션  195000    50  410\n",
       "13   핸디스틱청소기  DIBEA  ALLNEW29000 PLUS  236550    50  400\n",
       "128  핸디스틱청소기  DIBEA      ALLNEW22000+  199000    50  390\n",
       "143  핸디스틱청소기  DIBEA       ALLNEW29000  249000    48  390"
      ]
     },
     "execution_count": 261,
     "metadata": {},
     "output_type": "execute_result"
    }
   ],
   "source": [
    "# 흡입력 기준으로 정렬, ascending=Treu(오름차순), ascending=False(내림차순)\n",
    "suctionTopList = dfDataFinal.sort_values(['흡입력'], ascending=False)\n",
    "suctionTopList.head()"
   ]
  },
  {
   "cell_type": "code",
   "execution_count": 270,
   "metadata": {},
   "outputs": [
    {
     "data": {
      "text/html": [
       "<div>\n",
       "<style scoped>\n",
       "    .dataframe tbody tr th:only-of-type {\n",
       "        vertical-align: middle;\n",
       "    }\n",
       "\n",
       "    .dataframe tbody tr th {\n",
       "        vertical-align: top;\n",
       "    }\n",
       "\n",
       "    .dataframe thead th {\n",
       "        text-align: right;\n",
       "    }\n",
       "</style>\n",
       "<table border=\"1\" class=\"dataframe\">\n",
       "  <thead>\n",
       "    <tr style=\"text-align: right;\">\n",
       "      <th></th>\n",
       "      <th>카테고리</th>\n",
       "      <th>회사명</th>\n",
       "      <th>제품명</th>\n",
       "      <th>가격</th>\n",
       "      <th>사용시간</th>\n",
       "      <th>흡입력</th>\n",
       "    </tr>\n",
       "  </thead>\n",
       "  <tbody>\n",
       "    <tr>\n",
       "      <th>830</th>\n",
       "      <td>핸디스틱청소기</td>\n",
       "      <td>기펠</td>\n",
       "      <td>BTS-5000</td>\n",
       "      <td>471980</td>\n",
       "      <td>240</td>\n",
       "      <td>0</td>\n",
       "    </tr>\n",
       "    <tr>\n",
       "      <th>1020</th>\n",
       "      <td>핸디스틱청소기</td>\n",
       "      <td>라이녹스</td>\n",
       "      <td>원큐 RXBC-C200</td>\n",
       "      <td>174830</td>\n",
       "      <td>240</td>\n",
       "      <td>0</td>\n",
       "    </tr>\n",
       "    <tr>\n",
       "      <th>382</th>\n",
       "      <td>핸디스틱청소기</td>\n",
       "      <td>헤몬</td>\n",
       "      <td>ST-6655</td>\n",
       "      <td>39010</td>\n",
       "      <td>180</td>\n",
       "      <td>120</td>\n",
       "    </tr>\n",
       "    <tr>\n",
       "      <th>673</th>\n",
       "      <td>핸디스틱청소기</td>\n",
       "      <td>무궁화전자</td>\n",
       "      <td>바로바로 MDC-900</td>\n",
       "      <td>222270</td>\n",
       "      <td>150</td>\n",
       "      <td>0</td>\n",
       "    </tr>\n",
       "    <tr>\n",
       "      <th>663</th>\n",
       "      <td>핸디스틱청소기</td>\n",
       "      <td>무궁화전자</td>\n",
       "      <td>바로바로 MDC-910</td>\n",
       "      <td>225460</td>\n",
       "      <td>150</td>\n",
       "      <td>0</td>\n",
       "    </tr>\n",
       "  </tbody>\n",
       "</table>\n",
       "</div>"
      ],
      "text/plain": [
       "         카테고리    회사명           제품명      가격  사용시간  흡입력\n",
       "830   핸디스틱청소기     기펠      BTS-5000  471980   240    0\n",
       "1020  핸디스틱청소기   라이녹스  원큐 RXBC-C200  174830   240    0\n",
       "382   핸디스틱청소기     헤몬       ST-6655   39010   180  120\n",
       "673   핸디스틱청소기  무궁화전자  바로바로 MDC-900  222270   150    0\n",
       "663   핸디스틱청소기  무궁화전자  바로바로 MDC-910  225460   150    0"
      ]
     },
     "execution_count": 270,
     "metadata": {},
     "output_type": "execute_result"
    }
   ],
   "source": [
    "# 사용시간 기준 정렬\n",
    "useTimeTopList = dfDataFinal.sort_values(['사용시간'], ascending=False)\n",
    "useTimeTopList.head()"
   ]
  },
  {
   "cell_type": "code",
   "execution_count": 271,
   "metadata": {},
   "outputs": [
    {
     "data": {
      "text/html": [
       "<div>\n",
       "<style scoped>\n",
       "    .dataframe tbody tr th:only-of-type {\n",
       "        vertical-align: middle;\n",
       "    }\n",
       "\n",
       "    .dataframe tbody tr th {\n",
       "        vertical-align: top;\n",
       "    }\n",
       "\n",
       "    .dataframe thead th {\n",
       "        text-align: right;\n",
       "    }\n",
       "</style>\n",
       "<table border=\"1\" class=\"dataframe\">\n",
       "  <thead>\n",
       "    <tr style=\"text-align: right;\">\n",
       "      <th></th>\n",
       "      <th>카테고리</th>\n",
       "      <th>회사명</th>\n",
       "      <th>제품명</th>\n",
       "      <th>가격</th>\n",
       "      <th>사용시간</th>\n",
       "      <th>흡입력</th>\n",
       "    </tr>\n",
       "  </thead>\n",
       "  <tbody>\n",
       "    <tr>\n",
       "      <th>830</th>\n",
       "      <td>핸디스틱청소기</td>\n",
       "      <td>기펠</td>\n",
       "      <td>BTS-5000</td>\n",
       "      <td>471980</td>\n",
       "      <td>240</td>\n",
       "      <td>0</td>\n",
       "    </tr>\n",
       "    <tr>\n",
       "      <th>1020</th>\n",
       "      <td>핸디스틱청소기</td>\n",
       "      <td>라이녹스</td>\n",
       "      <td>원큐 RXBC-C200</td>\n",
       "      <td>174830</td>\n",
       "      <td>240</td>\n",
       "      <td>0</td>\n",
       "    </tr>\n",
       "    <tr>\n",
       "      <th>382</th>\n",
       "      <td>핸디스틱청소기</td>\n",
       "      <td>헤몬</td>\n",
       "      <td>ST-6655</td>\n",
       "      <td>39010</td>\n",
       "      <td>180</td>\n",
       "      <td>120</td>\n",
       "    </tr>\n",
       "    <tr>\n",
       "      <th>663</th>\n",
       "      <td>핸디스틱청소기</td>\n",
       "      <td>무궁화전자</td>\n",
       "      <td>바로바로 MDC-910</td>\n",
       "      <td>225460</td>\n",
       "      <td>150</td>\n",
       "      <td>0</td>\n",
       "    </tr>\n",
       "    <tr>\n",
       "      <th>673</th>\n",
       "      <td>핸디스틱청소기</td>\n",
       "      <td>무궁화전자</td>\n",
       "      <td>바로바로 MDC-900</td>\n",
       "      <td>222270</td>\n",
       "      <td>150</td>\n",
       "      <td>0</td>\n",
       "    </tr>\n",
       "  </tbody>\n",
       "</table>\n",
       "</div>"
      ],
      "text/plain": [
       "         카테고리    회사명           제품명      가격  사용시간  흡입력\n",
       "830   핸디스틱청소기     기펠      BTS-5000  471980   240    0\n",
       "1020  핸디스틱청소기   라이녹스  원큐 RXBC-C200  174830   240    0\n",
       "382   핸디스틱청소기     헤몬       ST-6655   39010   180  120\n",
       "663   핸디스틱청소기  무궁화전자  바로바로 MDC-910  225460   150    0\n",
       "673   핸디스틱청소기  무궁화전자  바로바로 MDC-900  222270   150    0"
      ]
     },
     "execution_count": 271,
     "metadata": {},
     "output_type": "execute_result"
    }
   ],
   "source": [
    "# 사용시간, 흡입력 동시에 기준 정렬\n",
    "topList = dfDataFinal.sort_values(['사용시간', '흡입력'], ascending=False)\n",
    "topList.head()"
   ]
  },
  {
   "cell_type": "code",
   "execution_count": 284,
   "metadata": {},
   "outputs": [
    {
     "name": "stdout",
     "output_type": "stream",
     "text": [
      "평균가격 : 469,663원, 평균흡입력: 115.86W, 평균사용시간: 39.32분\n"
     ]
    }
   ],
   "source": [
    "## 가성비 좋은 제품 찾기 전\n",
    "# 평균값\n",
    "priceMean = int(dfDataFinal['가격'].mean()) # 47만원\n",
    "suctionMean = dfDataFinal['흡입력'].mean() # 115.8\n",
    "useTimeMean = dfDataFinal['사용시간'].mean() # 39분\n",
    "print(f'평균가격 : {priceMean:,d}원, 평균흡입력: {suctionMean:,.2f}W, 평균사용시간: {useTimeMean:,.2f}분')"
   ]
  },
  {
   "cell_type": "code",
   "execution_count": 289,
   "metadata": {},
   "outputs": [],
   "source": [
    "## 가성비 좋은 제품 조건\n",
    "cond1 = dfDataFinal['가격'] <= priceMean\n",
    "cond2 = dfDataFinal['흡입력'] >= suctionMean\n",
    "cond3 = dfDataFinal['사용시간'] >= useTimeMean"
   ]
  },
  {
   "cell_type": "code",
   "execution_count": 293,
   "metadata": {},
   "outputs": [],
   "source": [
    "## 가성비 좋은 제품 검색\n",
    "chartData = dfDataFinal[cond1 & cond2 & cond3]"
   ]
  },
  {
   "cell_type": "markdown",
   "metadata": {},
   "source": [
    "##### 데이터 시각화\n"
   ]
  },
  {
   "cell_type": "code",
   "execution_count": 291,
   "metadata": {},
   "outputs": [],
   "source": [
    "# 필요라이브러리 사용등록\n",
    "import pandas as pd\n",
    "import numpy as np\n",
    "import matplotlib.pyplot as plt\n",
    "import seaborn as sns"
   ]
  },
  {
   "cell_type": "code",
   "execution_count": 311,
   "metadata": {},
   "outputs": [],
   "source": [
    "# 차트 그릴때마다 계속 실행하면 한글깨짐이나 오류 현상 발생 가능성이 높음.\n",
    "sns.set_style('darkgrid')"
   ]
  },
  {
   "cell_type": "code",
   "execution_count": 313,
   "metadata": {},
   "outputs": [],
   "source": [
    "# 한글 깨짐 문제 해결\n",
    "from matplotlib import rcParams, font_manager, rc\n",
    "\n",
    "font_path = 'C:/Windows/Fonts/NanumGothicCoding.ttf' # 나눔고딕코딩 사용, 나눔고딕에서 오류발생(!)\n",
    "font = font_manager.FontProperties(fname=font_path).get_name() # 실제 설치된 폰트 이름조회\n",
    "rc('font', family=font) # 한글깨짐현상 해결!!\n",
    "rcParams['axes.unicode_minus'] = False # 한글 사용시 마이너스 표시 깨짐 해결!"
   ]
  },
  {
   "cell_type": "code",
   "execution_count": 323,
   "metadata": {},
   "outputs": [],
   "source": [
    "## 흡입력, 사용시간 최대값, 최소값\n",
    "suctionMax = chartData['흡입력'].max() # 420\n",
    "useTimeMax = chartData['사용시간'].max() # 180\n",
    "suctionMean2 = chartData['흡입력'].mean() # 229 \n",
    "useTimeMean2 = chartData['사용시간'].mean() # 51.9"
   ]
  },
  {
   "cell_type": "code",
   "execution_count": 325,
   "metadata": {},
   "outputs": [
    {
     "data": {
      "text/plain": [
       "229.69060773480663"
      ]
     },
     "execution_count": 325,
     "metadata": {},
     "output_type": "execute_result"
    }
   ],
   "source": [
    "suctionMean2"
   ]
  },
  {
   "cell_type": "code",
   "execution_count": 334,
   "metadata": {},
   "outputs": [
    {
     "data": {
      "image/png": "[encoded data removed]",
      "text/plain": [
       "<Figure size 1800x800 with 1 Axes>"
      ]
     },
     "metadata": {},
     "output_type": "display_data"
    }
   ],
   "source": [
    "fig = plt.figure(figsize=(18, 8))\n",
    "\n",
    "sns.scatterplot(data=chartData, x='흡입력', y='사용시간', size='가격', sizes=(10, 400), hue=chartData['회사명'], legend=False)\n",
    "plt.plot([100, suctionMax], [useTimeMean2, useTimeMean2], 'r--', lw=1) # 사용시간 평균치 줄표시\n",
    "plt.plot([suctionMean2, suctionMean2], [20, useTimeMax], 'b--', lw=1) # 흡입력 평균치 줄표시\n",
    "cursor(hover=True)\n",
    "plt.show()"
   ]
  },
  {
   "cell_type": "code",
   "execution_count": 343,
   "metadata": {},
   "outputs": [],
   "source": [
    "## 인기제품 데이터 시각화\n",
    "chartDataTop = chartData[:20]"
   ]
  },
  {
   "cell_type": "code",
   "execution_count": 357,
   "metadata": {},
   "outputs": [
    {
     "data": {
      "image/png": "[encoded data removed]",
      "text/plain": [
       "<Figure size 2000x1000 with 1 Axes>"
      ]
     },
     "metadata": {},
     "output_type": "display_data"
    }
   ],
   "source": [
    "import random\n",
    "\n",
    "# 인기제품 시각화\n",
    "fig = plt.figure(figsize=(20, 10))\n",
    "plt.title('무선청소기 Top20')\n",
    "sns.scatterplot(data=chartDataTop, x='흡입력', y='사용시간', size='가격', sizes=(20, 1000),\n",
    "                hue=chartDataTop['회사명'])\n",
    "\n",
    "for index, row in chartDataTop.iterrows():\n",
    "    x = row['흡입력'] + random.randrange(-10, 10)\n",
    "    y = row['사용시간'] + random.randrange(-5, 5)\n",
    "    s = row['제품명']\n",
    "    plt.text(x, y, s, size=13)\n",
    "\n",
    "plt.show()"
   ]
  },
  {
   "cell_type": "markdown",
   "metadata": {},
   "source": [
    "##### 결론\n",
    "- 데이터분석을 위한 전처리른 쉽지 않음\n",
    "- 결과들이 예상이나, 실제와 다를 수 있음"
   ]
  }
 ],
 "metadata": {
  "kernelspec": {
   "display_name": "Python 3",
   "language": "python",
   "name": "python3"
  },
  "language_info": {
   "codemirror_mode": {
    "name": "ipython",
    "version": 3
   },
   "file_extension": ".py",
   "mimetype": "text/x-python",
   "name": "python",
   "nbconvert_exporter": "python",
   "pygments_lexer": "ipython3",
   "version": "3.12.2"
  }
 },
 "nbformat": 4,
 "nbformat_minor": 2
}

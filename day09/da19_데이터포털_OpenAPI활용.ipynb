{
 "cells": [
  {
   "cell_type": "markdown",
   "metadata": {},
   "source": [
    "## 빅데이터 실습\n",
    "\n",
    "### 데이터 포털 Open API 활용\n",
    "\n",
    "#### 데이터 수집\n",
    "\n",
    "##### Open API\n",
    "- 한국관광공사 관광빅데이터 정보서비스 GW\n",
    "    - 기본 URL : http://apis.data.go.kr/B551011/DataLabService/metcoRegnVisitrDDList? \n",
    "        -https로 서비스 요청하면 ssl관련 오류 발생!!\n",
    "    - 서비스키 : vB779XLk9sWsO1uItIGMpdEUEv%2ByFZo7Upbko4nFNThP3swetHCCnKxuTXruaG5Z4opYCu%2BXAXGEUepvwmtmWA%3D%3D\n",
    "    - 파라미터(?뒤에 들어가는 여러가지 옵션값)\n",
    "        - serviceKey = 본인 서비스키 (encoding)\n",
    "        - numOfRows = 한페이지에 나타낼 결과 수 ( 10기본 60으로 하면 하루치 전부다 가져올 수 있음)\n",
    "        - pageNo = 페이지 번호(1)\n",
    "        - MobileOS = IOS, AND, WIN, ETC(기타)\n",
    "        - startYmd = 시작일자\n",
    "        - endYmd = 종료일자\n",
    "        - MobileApp = AppTest\n"
   ]
  },
  {
   "cell_type": "code",
   "execution_count": 32,
   "metadata": {},
   "outputs": [],
   "source": [
    "## 필요 라이브러리 사용등록\n",
    "import requests\n",
    "import json\n",
    "import xmltodict\n",
    "import pandas as pd"
   ]
  },
  {
   "cell_type": "markdown",
   "metadata": {},
   "source": [
    "##### 추가모듈\n",
    "- XML을 딕셔너리로 한번 바꿔주는 모듈\n",
    "- xmltodict\n",
    "```\n",
    "!pip install xmltodict\n",
    "```"
   ]
  },
  {
   "cell_type": "code",
   "execution_count": 30,
   "metadata": {},
   "outputs": [
    {
     "name": "stdout",
     "output_type": "stream",
     "text": [
      "Collecting xmltodict\n",
      "  Downloading xmltodict-0.13.0-py2.py3-none-any.whl.metadata (7.7 kB)\n",
      "Downloading xmltodict-0.13.0-py2.py3-none-any.whl (10.0 kB)\n",
      "Installing collected packages: xmltodict\n",
      "Successfully installed xmltodict-0.13.0\n"
     ]
    }
   ],
   "source": [
    "!pip install xmltodict"
   ]
  },
  {
   "cell_type": "code",
   "execution_count": 13,
   "metadata": {},
   "outputs": [],
   "source": [
    "# 서비스키\n",
    "serviceKey = r'vB779XLk9sWsO1uItIGMpdEUEv%2ByFZo7Upbko4nFNThP3swetHCCnKxuTXruaG5Z4opYCu%2BXAXGEUepvwmtmWA%3D%3D'"
   ]
  },
  {
   "cell_type": "code",
   "execution_count": 26,
   "metadata": {},
   "outputs": [],
   "source": [
    "# 기준날짜\n",
    "ymd = '20231201'"
   ]
  },
  {
   "cell_type": "code",
   "execution_count": 28,
   "metadata": {},
   "outputs": [
    {
     "data": {
      "text/plain": [
       "'http://apis.data.go.kr/B551011/DataLabService/metcoRegnVisitrDDList?numOfRows=10&pageNo=1&MobileOS=ETC&MobileApp=AppTest&serviceKey=vB779XLk9sWsO1uItIGMpdEUEv%2ByFZo7Upbko4nFNThP3swetHCCnKxuTXruaG5Z4opYCu%2BXAXGEUepvwmtmWA%3D%3D&startYmd=20231201&endYmd=20231201'"
      ]
     },
     "execution_count": 28,
     "metadata": {},
     "output_type": "execute_result"
    }
   ],
   "source": [
    "# 필요 URL 생성\n",
    "baseUrl = 'http://apis.data.go.kr/B551011/DataLabService/metcoRegnVisitrDDList?'\n",
    "parameter = 'numOfRows=10&pageNo=1&MobileOS=ETC&MobileApp=AppTest&' +\\\n",
    "            f'serviceKey={serviceKey}&startYmd={ymd}&endYmd={ymd}'\n",
    "totalUrl = baseUrl + parameter\n",
    "totalUrl"
   ]
  },
  {
   "cell_type": "code",
   "execution_count": 33,
   "metadata": {},
   "outputs": [
    {
     "data": {
      "text/plain": [
       "'<?xml version=\"1.0\" encoding=\"UTF-8\" standalone=\"yes\"?><response><header>\\n  <resultCode>0000</resultCode>\\n  <resultMsg>OK</resultMsg>\\n</header><body><items>\\n  <item>\\n    <areaCode>11</areaCode>\\n    <areaNm>서울특별시</areaNm>\\n    <daywkDivCd>5</daywkDivCd>\\n    <daywkDivNm>금요일</daywkDivNm>\\n    <touDivCd>1</touDivCd>\\n    <touDivNm>현지인(a)</touDivNm>\\n    <touNum>4603042.5</touNum>\\n    <baseYmd>20231201</baseYmd>\\n  </item>\\n  <item>\\n    <areaCode>11</areaCode>\\n    <areaNm>서울특별시</areaNm>\\n    <daywkDivCd>5</daywkDivCd>\\n    <daywkDivNm>금요일</daywkDivNm>\\n    <touDivCd>2</touDivCd>\\n    <touDivNm>외지인(b)</touDivNm>\\n    <touNum>1448384.0</touNum>\\n    <baseYmd>20231201</baseYmd>\\n  </item>\\n  <item>\\n    <areaCode>11</areaCode>\\n    <areaNm>서울특별시</areaNm>\\n    <daywkDivCd>5</daywkDivCd>\\n    <daywkDivNm>금요일</daywkDivNm>\\n    <touDivCd>3</touDivCd>\\n    <touDivNm>외국인(c)</touDivNm>\\n    <touNum>30583.54999999999</touNum>\\n    <baseYmd>20231201</baseYmd>\\n  </item>\\n  <item>\\n    <areaCode>26</areaCode>\\n    <areaNm>부산광역시</areaNm>\\n    <daywkDivCd>5</daywkDivCd>\\n    <daywkDivNm>금요일</daywkDivNm>\\n    <touDivCd>1</touDivCd>\\n    <touDivNm>현지인(a)</touDivNm>\\n    <touNum>1583729.0</touNum>\\n    <baseYmd>20231201</baseYmd>\\n  </item>\\n  <item>\\n    <areaCode>26</areaCode>\\n    <areaNm>부산광역시</areaNm>\\n    <daywkDivCd>5</daywkDivCd>\\n    <daywkDivNm>금요일</daywkDivNm>\\n    <touDivCd>2</touDivCd>\\n    <touDivNm>외지인(b)</touDivNm>\\n    <touNum>323697.5</touNum>\\n    <baseYmd>20231201</baseYmd>\\n  </item>\\n  <item>\\n    <areaCode>26</areaCode>\\n    <areaNm>부산광역시</areaNm>\\n    <daywkDivCd>5</daywkDivCd>\\n    <daywkDivNm>금요일</daywkDivNm>\\n    <touDivCd>3</touDivCd>\\n    <touDivNm>외국인(c)</touDivNm>\\n    <touNum>8219.360000000004</touNum>\\n    <baseYmd>20231201</baseYmd>\\n  </item>\\n  <item>\\n    <areaCode>27</areaCode>\\n    <areaNm>대구광역시</areaNm>\\n    <daywkDivCd>5</daywkDivCd>\\n    <daywkDivNm>금요일</daywkDivNm>\\n    <touDivCd>1</touDivCd>\\n    <touDivNm>현지인(a)</touDivNm>\\n    <touNum>1206880.5</touNum>\\n    <baseYmd>20231201</baseYmd>\\n  </item>\\n  <item>\\n    <areaCode>27</areaCode>\\n    <areaNm>대구광역시</areaNm>\\n    <daywkDivCd>5</daywkDivCd>\\n    <daywkDivNm>금요일</daywkDivNm>\\n    <touDivCd>2</touDivCd>\\n    <touDivNm>외지인(b)</touDivNm>\\n    <touNum>238301.0</touNum>\\n    <baseYmd>20231201</baseYmd>\\n  </item>\\n  <item>\\n    <areaCode>27</areaCode>\\n    <areaNm>대구광역시</areaNm>\\n    <daywkDivCd>5</daywkDivCd>\\n    <daywkDivNm>금요일</daywkDivNm>\\n    <touDivCd>3</touDivCd>\\n    <touDivNm>외국인(c)</touDivNm>\\n    <touNum>1004.25</touNum>\\n    <baseYmd>20231201</baseYmd>\\n  </item>\\n  <item>\\n    <areaCode>28</areaCode>\\n    <areaNm>인천광역시</areaNm>\\n    <daywkDivCd>5</daywkDivCd>\\n    <daywkDivNm>금요일</daywkDivNm>\\n    <touDivCd>1</touDivCd>\\n    <touDivNm>현지인(a)</touDivNm>\\n    <touNum>1364107.5</touNum>\\n    <baseYmd>20231201</baseYmd>\\n  </item>\\n</items>  <numOfRows>10</numOfRows>\\n  <pageNo>1</pageNo>\\n  <totalCount>51</totalCount>\\n</body></response>'"
      ]
     },
     "execution_count": 33,
     "metadata": {},
     "output_type": "execute_result"
    }
   ],
   "source": [
    "# 실행 테스트\n",
    "# res.status_code : 200(OK) or 404/500 | res.text(str) / res.content(byte)\n",
    "res = requests.get(totalUrl)\n",
    "res.status_code\n",
    "res.text"
   ]
  },
  {
   "cell_type": "code",
   "execution_count": 36,
   "metadata": {},
   "outputs": [],
   "source": [
    "## openapi로 넘어온 text(xml타입)\n",
    "## xmltodict.parse() xml문서를 파이썬 dictionary 타입 변환\n",
    "## json.dumps() dictionary를 json타입으로 변환\n",
    "dictTemp = xmltodict.parse(res.text)"
   ]
  },
  {
   "cell_type": "code",
   "execution_count": 42,
   "metadata": {},
   "outputs": [
    {
     "data": {
      "text/plain": [
       "'0000'"
      ]
     },
     "execution_count": 42,
     "metadata": {},
     "output_type": "execute_result"
    }
   ],
   "source": [
    "dictTemp['response']['header']['resultCode'] # 0000 = ok"
   ]
  },
  {
   "cell_type": "code",
   "execution_count": 40,
   "metadata": {},
   "outputs": [
    {
     "data": {
      "text/html": [
       "<div>\n",
       "<style scoped>\n",
       "    .dataframe tbody tr th:only-of-type {\n",
       "        vertical-align: middle;\n",
       "    }\n",
       "\n",
       "    .dataframe tbody tr th {\n",
       "        vertical-align: top;\n",
       "    }\n",
       "\n",
       "    .dataframe thead th {\n",
       "        text-align: right;\n",
       "    }\n",
       "</style>\n",
       "<table border=\"1\" class=\"dataframe\">\n",
       "  <thead>\n",
       "    <tr style=\"text-align: right;\">\n",
       "      <th></th>\n",
       "      <th>areaCode</th>\n",
       "      <th>areaNm</th>\n",
       "      <th>daywkDivCd</th>\n",
       "      <th>daywkDivNm</th>\n",
       "      <th>touDivCd</th>\n",
       "      <th>touDivNm</th>\n",
       "      <th>touNum</th>\n",
       "      <th>baseYmd</th>\n",
       "    </tr>\n",
       "  </thead>\n",
       "  <tbody>\n",
       "    <tr>\n",
       "      <th>0</th>\n",
       "      <td>11</td>\n",
       "      <td>서울특별시</td>\n",
       "      <td>5</td>\n",
       "      <td>금요일</td>\n",
       "      <td>1</td>\n",
       "      <td>현지인(a)</td>\n",
       "      <td>4603042.5</td>\n",
       "      <td>20231201</td>\n",
       "    </tr>\n",
       "    <tr>\n",
       "      <th>1</th>\n",
       "      <td>11</td>\n",
       "      <td>서울특별시</td>\n",
       "      <td>5</td>\n",
       "      <td>금요일</td>\n",
       "      <td>2</td>\n",
       "      <td>외지인(b)</td>\n",
       "      <td>1448384.0</td>\n",
       "      <td>20231201</td>\n",
       "    </tr>\n",
       "    <tr>\n",
       "      <th>2</th>\n",
       "      <td>11</td>\n",
       "      <td>서울특별시</td>\n",
       "      <td>5</td>\n",
       "      <td>금요일</td>\n",
       "      <td>3</td>\n",
       "      <td>외국인(c)</td>\n",
       "      <td>30583.54999999999</td>\n",
       "      <td>20231201</td>\n",
       "    </tr>\n",
       "    <tr>\n",
       "      <th>3</th>\n",
       "      <td>26</td>\n",
       "      <td>부산광역시</td>\n",
       "      <td>5</td>\n",
       "      <td>금요일</td>\n",
       "      <td>1</td>\n",
       "      <td>현지인(a)</td>\n",
       "      <td>1583729.0</td>\n",
       "      <td>20231201</td>\n",
       "    </tr>\n",
       "    <tr>\n",
       "      <th>4</th>\n",
       "      <td>26</td>\n",
       "      <td>부산광역시</td>\n",
       "      <td>5</td>\n",
       "      <td>금요일</td>\n",
       "      <td>2</td>\n",
       "      <td>외지인(b)</td>\n",
       "      <td>323697.5</td>\n",
       "      <td>20231201</td>\n",
       "    </tr>\n",
       "    <tr>\n",
       "      <th>5</th>\n",
       "      <td>26</td>\n",
       "      <td>부산광역시</td>\n",
       "      <td>5</td>\n",
       "      <td>금요일</td>\n",
       "      <td>3</td>\n",
       "      <td>외국인(c)</td>\n",
       "      <td>8219.360000000004</td>\n",
       "      <td>20231201</td>\n",
       "    </tr>\n",
       "    <tr>\n",
       "      <th>6</th>\n",
       "      <td>27</td>\n",
       "      <td>대구광역시</td>\n",
       "      <td>5</td>\n",
       "      <td>금요일</td>\n",
       "      <td>1</td>\n",
       "      <td>현지인(a)</td>\n",
       "      <td>1206880.5</td>\n",
       "      <td>20231201</td>\n",
       "    </tr>\n",
       "    <tr>\n",
       "      <th>7</th>\n",
       "      <td>27</td>\n",
       "      <td>대구광역시</td>\n",
       "      <td>5</td>\n",
       "      <td>금요일</td>\n",
       "      <td>2</td>\n",
       "      <td>외지인(b)</td>\n",
       "      <td>238301.0</td>\n",
       "      <td>20231201</td>\n",
       "    </tr>\n",
       "    <tr>\n",
       "      <th>8</th>\n",
       "      <td>27</td>\n",
       "      <td>대구광역시</td>\n",
       "      <td>5</td>\n",
       "      <td>금요일</td>\n",
       "      <td>3</td>\n",
       "      <td>외국인(c)</td>\n",
       "      <td>1004.25</td>\n",
       "      <td>20231201</td>\n",
       "    </tr>\n",
       "    <tr>\n",
       "      <th>9</th>\n",
       "      <td>28</td>\n",
       "      <td>인천광역시</td>\n",
       "      <td>5</td>\n",
       "      <td>금요일</td>\n",
       "      <td>1</td>\n",
       "      <td>현지인(a)</td>\n",
       "      <td>1364107.5</td>\n",
       "      <td>20231201</td>\n",
       "    </tr>\n",
       "  </tbody>\n",
       "</table>\n",
       "</div>"
      ],
      "text/plain": [
       "  areaCode areaNm daywkDivCd daywkDivNm touDivCd touDivNm             touNum  \\\n",
       "0       11  서울특별시          5        금요일        1   현지인(a)          4603042.5   \n",
       "1       11  서울특별시          5        금요일        2   외지인(b)          1448384.0   \n",
       "2       11  서울특별시          5        금요일        3   외국인(c)  30583.54999999999   \n",
       "3       26  부산광역시          5        금요일        1   현지인(a)          1583729.0   \n",
       "4       26  부산광역시          5        금요일        2   외지인(b)           323697.5   \n",
       "5       26  부산광역시          5        금요일        3   외국인(c)  8219.360000000004   \n",
       "6       27  대구광역시          5        금요일        1   현지인(a)          1206880.5   \n",
       "7       27  대구광역시          5        금요일        2   외지인(b)           238301.0   \n",
       "8       27  대구광역시          5        금요일        3   외국인(c)            1004.25   \n",
       "9       28  인천광역시          5        금요일        1   현지인(a)          1364107.5   \n",
       "\n",
       "    baseYmd  \n",
       "0  20231201  \n",
       "1  20231201  \n",
       "2  20231201  \n",
       "3  20231201  \n",
       "4  20231201  \n",
       "5  20231201  \n",
       "6  20231201  \n",
       "7  20231201  \n",
       "8  20231201  \n",
       "9  20231201  "
      ]
     },
     "execution_count": 40,
     "metadata": {},
     "output_type": "execute_result"
    }
   ],
   "source": [
    "# 딕셔너리 키를 추가해서[]에 추가해서 원하는 데이터\n",
    "dictTemp['response']['body']['items']['item']"
   ]
  },
  {
   "cell_type": "code",
   "execution_count": 65,
   "metadata": {},
   "outputs": [
    {
     "data": {
      "text/html": [
       "<div>\n",
       "<style scoped>\n",
       "    .dataframe tbody tr th:only-of-type {\n",
       "        vertical-align: middle;\n",
       "    }\n",
       "\n",
       "    .dataframe tbody tr th {\n",
       "        vertical-align: top;\n",
       "    }\n",
       "\n",
       "    .dataframe thead th {\n",
       "        text-align: right;\n",
       "    }\n",
       "</style>\n",
       "<table border=\"1\" class=\"dataframe\">\n",
       "  <thead>\n",
       "    <tr style=\"text-align: right;\">\n",
       "      <th></th>\n",
       "      <th>areaCode</th>\n",
       "      <th>areaNm</th>\n",
       "      <th>daywkDivCd</th>\n",
       "      <th>daywkDivNm</th>\n",
       "      <th>touDivCd</th>\n",
       "      <th>touDivNm</th>\n",
       "      <th>touNum</th>\n",
       "      <th>baseYmd</th>\n",
       "    </tr>\n",
       "  </thead>\n",
       "  <tbody>\n",
       "    <tr>\n",
       "      <th>0</th>\n",
       "      <td>11</td>\n",
       "      <td>서울특별시</td>\n",
       "      <td>5</td>\n",
       "      <td>금요일</td>\n",
       "      <td>1</td>\n",
       "      <td>현지인(a)</td>\n",
       "      <td>4603042.5</td>\n",
       "      <td>20231201</td>\n",
       "    </tr>\n",
       "    <tr>\n",
       "      <th>1</th>\n",
       "      <td>11</td>\n",
       "      <td>서울특별시</td>\n",
       "      <td>5</td>\n",
       "      <td>금요일</td>\n",
       "      <td>2</td>\n",
       "      <td>외지인(b)</td>\n",
       "      <td>1448384.0</td>\n",
       "      <td>20231201</td>\n",
       "    </tr>\n",
       "    <tr>\n",
       "      <th>2</th>\n",
       "      <td>11</td>\n",
       "      <td>서울특별시</td>\n",
       "      <td>5</td>\n",
       "      <td>금요일</td>\n",
       "      <td>3</td>\n",
       "      <td>외국인(c)</td>\n",
       "      <td>30583.54999999999</td>\n",
       "      <td>20231201</td>\n",
       "    </tr>\n",
       "    <tr>\n",
       "      <th>3</th>\n",
       "      <td>26</td>\n",
       "      <td>부산광역시</td>\n",
       "      <td>5</td>\n",
       "      <td>금요일</td>\n",
       "      <td>1</td>\n",
       "      <td>현지인(a)</td>\n",
       "      <td>1583729.0</td>\n",
       "      <td>20231201</td>\n",
       "    </tr>\n",
       "    <tr>\n",
       "      <th>4</th>\n",
       "      <td>26</td>\n",
       "      <td>부산광역시</td>\n",
       "      <td>5</td>\n",
       "      <td>금요일</td>\n",
       "      <td>2</td>\n",
       "      <td>외지인(b)</td>\n",
       "      <td>323697.5</td>\n",
       "      <td>20231201</td>\n",
       "    </tr>\n",
       "    <tr>\n",
       "      <th>5</th>\n",
       "      <td>26</td>\n",
       "      <td>부산광역시</td>\n",
       "      <td>5</td>\n",
       "      <td>금요일</td>\n",
       "      <td>3</td>\n",
       "      <td>외국인(c)</td>\n",
       "      <td>8219.360000000004</td>\n",
       "      <td>20231201</td>\n",
       "    </tr>\n",
       "    <tr>\n",
       "      <th>6</th>\n",
       "      <td>27</td>\n",
       "      <td>대구광역시</td>\n",
       "      <td>5</td>\n",
       "      <td>금요일</td>\n",
       "      <td>1</td>\n",
       "      <td>현지인(a)</td>\n",
       "      <td>1206880.5</td>\n",
       "      <td>20231201</td>\n",
       "    </tr>\n",
       "    <tr>\n",
       "      <th>7</th>\n",
       "      <td>27</td>\n",
       "      <td>대구광역시</td>\n",
       "      <td>5</td>\n",
       "      <td>금요일</td>\n",
       "      <td>2</td>\n",
       "      <td>외지인(b)</td>\n",
       "      <td>238301.0</td>\n",
       "      <td>20231201</td>\n",
       "    </tr>\n",
       "    <tr>\n",
       "      <th>8</th>\n",
       "      <td>27</td>\n",
       "      <td>대구광역시</td>\n",
       "      <td>5</td>\n",
       "      <td>금요일</td>\n",
       "      <td>3</td>\n",
       "      <td>외국인(c)</td>\n",
       "      <td>1004.25</td>\n",
       "      <td>20231201</td>\n",
       "    </tr>\n",
       "    <tr>\n",
       "      <th>9</th>\n",
       "      <td>28</td>\n",
       "      <td>인천광역시</td>\n",
       "      <td>5</td>\n",
       "      <td>금요일</td>\n",
       "      <td>1</td>\n",
       "      <td>현지인(a)</td>\n",
       "      <td>1364107.5</td>\n",
       "      <td>20231201</td>\n",
       "    </tr>\n",
       "  </tbody>\n",
       "</table>\n",
       "</div>"
      ],
      "text/plain": [
       "  areaCode areaNm daywkDivCd daywkDivNm touDivCd touDivNm             touNum  \\\n",
       "0       11  서울특별시          5        금요일        1   현지인(a)          4603042.5   \n",
       "1       11  서울특별시          5        금요일        2   외지인(b)          1448384.0   \n",
       "2       11  서울특별시          5        금요일        3   외국인(c)  30583.54999999999   \n",
       "3       26  부산광역시          5        금요일        1   현지인(a)          1583729.0   \n",
       "4       26  부산광역시          5        금요일        2   외지인(b)           323697.5   \n",
       "5       26  부산광역시          5        금요일        3   외국인(c)  8219.360000000004   \n",
       "6       27  대구광역시          5        금요일        1   현지인(a)          1206880.5   \n",
       "7       27  대구광역시          5        금요일        2   외지인(b)           238301.0   \n",
       "8       27  대구광역시          5        금요일        3   외국인(c)            1004.25   \n",
       "9       28  인천광역시          5        금요일        1   현지인(a)          1364107.5   \n",
       "\n",
       "    baseYmd  \n",
       "0  20231201  \n",
       "1  20231201  \n",
       "2  20231201  \n",
       "3  20231201  \n",
       "4  20231201  \n",
       "5  20231201  \n",
       "6  20231201  \n",
       "7  20231201  \n",
       "8  20231201  \n",
       "9  20231201  "
      ]
     },
     "execution_count": 65,
     "metadata": {},
     "output_type": "execute_result"
    }
   ],
   "source": [
    "# 필요한 값 추출\n",
    "pd.DataFrame(dictTemp['response']['body']['items']['item'])"
   ]
  },
  {
   "cell_type": "markdown",
   "metadata": {},
   "source": [
    "##### 단일테스트 완료 / 함수로 생성\n",
    "- getRequestUrl()\n",
    "- getTouristDataService()\n",
    "- 2023-12-01 ~ 2023-12-31 반복문 처리\n"
   ]
  },
  {
   "cell_type": "code",
   "execution_count": 43,
   "metadata": {},
   "outputs": [],
   "source": [
    "# 웹으로 OpenAPI url 호출하는 함수\n",
    "def getRequestUrl(url):\n",
    "    try:\n",
    "        res = requests.get(url,verify=False)\n",
    "        if res.status_code == 200: # 요청결과 ok\n",
    "            return res.text\n",
    "    except Exception as e:\n",
    "        print(f'getRequestURL() 호출 예외 : {e}')\n",
    "        return None"
   ]
  },
  {
   "cell_type": "code",
   "execution_count": 44,
   "metadata": {},
   "outputs": [],
   "source": [
    "# Open API 호출함수\n",
    "def getTouristDataService(ymd):\n",
    "    serviceKey = r'vB779XLk9sWsO1uItIGMpdEUEv%2ByFZo7Upbko4nFNThP3swetHCCnKxuTXruaG5Z4opYCu%2BXAXGEUepvwmtmWA%3D%3D'\n",
    "    baseUrl = 'http://apis.data.go.kr/B551011/DataLabService/metcoRegnVisitrDDList?'\n",
    "    parameter = 'numOfRows=10&pageNo=1&MobileOS=ETC&MobileApp=AppTest&' +\\\n",
    "            f'serviceKey={serviceKey}&startYmd={ymd}&endYmd={ymd}'\n",
    "    totalUrl = baseUrl + parameter\n",
    "\n",
    "    result = getRequestUrl(totalUrl)\n",
    "    if result == None:\n",
    "        return None\n",
    "    else:\n",
    "        return result"
   ]
  },
  {
   "cell_type": "code",
   "execution_count": 46,
   "metadata": {},
   "outputs": [],
   "source": [
    "# 실행테스트\n",
    "data = getTouristDataService('20231202')"
   ]
  },
  {
   "cell_type": "code",
   "execution_count": 49,
   "metadata": {},
   "outputs": [
    {
     "data": {
      "text/plain": [
       "[{'areaCode': '11',\n",
       "  'areaNm': '서울특별시',\n",
       "  'daywkDivCd': '6',\n",
       "  'daywkDivNm': '토요일',\n",
       "  'touDivCd': '1',\n",
       "  'touDivNm': '현지인(a)',\n",
       "  'touNum': '4085018.0',\n",
       "  'baseYmd': '20231202'},\n",
       " {'areaCode': '11',\n",
       "  'areaNm': '서울특별시',\n",
       "  'daywkDivCd': '6',\n",
       "  'daywkDivNm': '토요일',\n",
       "  'touDivCd': '2',\n",
       "  'touDivNm': '외지인(b)',\n",
       "  'touNum': '1940487.5',\n",
       "  'baseYmd': '20231202'},\n",
       " {'areaCode': '11',\n",
       "  'areaNm': '서울특별시',\n",
       "  'daywkDivCd': '6',\n",
       "  'daywkDivNm': '토요일',\n",
       "  'touDivCd': '3',\n",
       "  'touDivNm': '외국인(c)',\n",
       "  'touNum': '31302.643199999977',\n",
       "  'baseYmd': '20231202'},\n",
       " {'areaCode': '26',\n",
       "  'areaNm': '부산광역시',\n",
       "  'daywkDivCd': '6',\n",
       "  'daywkDivNm': '토요일',\n",
       "  'touDivCd': '1',\n",
       "  'touDivNm': '현지인(a)',\n",
       "  'touNum': '1479635.5',\n",
       "  'baseYmd': '20231202'},\n",
       " {'areaCode': '26',\n",
       "  'areaNm': '부산광역시',\n",
       "  'daywkDivCd': '6',\n",
       "  'daywkDivNm': '토요일',\n",
       "  'touDivCd': '2',\n",
       "  'touDivNm': '외지인(b)',\n",
       "  'touNum': '484620.5',\n",
       "  'baseYmd': '20231202'},\n",
       " {'areaCode': '26',\n",
       "  'areaNm': '부산광역시',\n",
       "  'daywkDivCd': '6',\n",
       "  'daywkDivNm': '토요일',\n",
       "  'touDivCd': '3',\n",
       "  'touDivNm': '외국인(c)',\n",
       "  'touNum': '8319.971599999999',\n",
       "  'baseYmd': '20231202'},\n",
       " {'areaCode': '27',\n",
       "  'areaNm': '대구광역시',\n",
       "  'daywkDivCd': '6',\n",
       "  'daywkDivNm': '토요일',\n",
       "  'touDivCd': '1',\n",
       "  'touDivNm': '현지인(a)',\n",
       "  'touNum': '1137794.0',\n",
       "  'baseYmd': '20231202'},\n",
       " {'areaCode': '27',\n",
       "  'areaNm': '대구광역시',\n",
       "  'daywkDivCd': '6',\n",
       "  'daywkDivNm': '토요일',\n",
       "  'touDivCd': '2',\n",
       "  'touDivNm': '외지인(b)',\n",
       "  'touNum': '371346.5',\n",
       "  'baseYmd': '20231202'},\n",
       " {'areaCode': '27',\n",
       "  'areaNm': '대구광역시',\n",
       "  'daywkDivCd': '6',\n",
       "  'daywkDivNm': '토요일',\n",
       "  'touDivCd': '3',\n",
       "  'touDivNm': '외국인(c)',\n",
       "  'touNum': '968.3136999999996',\n",
       "  'baseYmd': '20231202'},\n",
       " {'areaCode': '28',\n",
       "  'areaNm': '인천광역시',\n",
       "  'daywkDivCd': '6',\n",
       "  'daywkDivNm': '토요일',\n",
       "  'touDivCd': '1',\n",
       "  'touDivNm': '현지인(a)',\n",
       "  'touNum': '1284664.5',\n",
       "  'baseYmd': '20231202'}]"
      ]
     },
     "execution_count": 49,
     "metadata": {},
     "output_type": "execute_result"
    }
   ],
   "source": [
    "# xml을 딕셔너리로 형변환후 필요한 데이터까지만 추출\n",
    "xmltodict.parse(data)['response']['body']['items']['item']"
   ]
  },
  {
   "cell_type": "code",
   "execution_count": 3,
   "metadata": {},
   "outputs": [],
   "source": [
    "## 추가 라이브러리 사용등록\n",
    "from tqdm import tqdm\n",
    "import time"
   ]
  },
  {
   "cell_type": "code",
   "execution_count": 4,
   "metadata": {},
   "outputs": [
    {
     "name": "stderr",
     "output_type": "stream",
     "text": [
      "  0%|          | 0/31 [00:00<?, ?it/s]\n"
     ]
    },
    {
     "ename": "NameError",
     "evalue": "name 'getTouristDataService' is not defined",
     "output_type": "error",
     "traceback": [
      "\u001b[1;31m---------------------------------------------------------------------------\u001b[0m",
      "\u001b[1;31mNameError\u001b[0m                                 Traceback (most recent call last)",
      "Cell \u001b[1;32mIn[4], line 7\u001b[0m\n\u001b[0;32m      5\u001b[0m \u001b[38;5;28;01mfor\u001b[39;00m day \u001b[38;5;129;01min\u001b[39;00m tqdm(\u001b[38;5;28mrange\u001b[39m(\u001b[38;5;241m1\u001b[39m, \u001b[38;5;241m32\u001b[39m)):\n\u001b[0;32m      6\u001b[0m     reqYmd \u001b[38;5;241m=\u001b[39m \u001b[38;5;124mf\u001b[39m\u001b[38;5;124m'\u001b[39m\u001b[38;5;132;01m{\u001b[39;00myear\u001b[38;5;132;01m}\u001b[39;00m\u001b[38;5;132;01m{\u001b[39;00mmonth\u001b[38;5;132;01m}\u001b[39;00m\u001b[38;5;132;01m{\u001b[39;00mday\u001b[38;5;132;01m:\u001b[39;00m\u001b[38;5;124m02d\u001b[39m\u001b[38;5;132;01m}\u001b[39;00m\u001b[38;5;124m'\u001b[39m\n\u001b[1;32m----> 7\u001b[0m     data \u001b[38;5;241m=\u001b[39m \u001b[43mgetTouristDataService\u001b[49m(reqYmd)\n\u001b[0;32m      8\u001b[0m     \u001b[38;5;28;01mif\u001b[39;00m xmltodict\u001b[38;5;241m.\u001b[39mparse(data)[\u001b[38;5;124m'\u001b[39m\u001b[38;5;124mresponse\u001b[39m\u001b[38;5;124m'\u001b[39m][\u001b[38;5;124m'\u001b[39m\u001b[38;5;124mbody\u001b[39m\u001b[38;5;124m'\u001b[39m][\u001b[38;5;124m'\u001b[39m\u001b[38;5;124mitems\u001b[39m\u001b[38;5;124m'\u001b[39m] \u001b[38;5;241m==\u001b[39m \u001b[38;5;28;01mNone\u001b[39;00m:   \u001b[38;5;66;03m#해당날짜에 데이터 없을 수 있음\u001b[39;00m\n\u001b[0;32m      9\u001b[0m         resList \u001b[38;5;241m=\u001b[39m []\n",
      "\u001b[1;31mNameError\u001b[0m: name 'getTouristDataService' is not defined"
     ]
    }
   ],
   "source": [
    "# 반복문으로 처리\n",
    "totalList = []\n",
    "year = 2023\n",
    "month = 12\n",
    "for day in tqdm(range(1, 32)):\n",
    "    reqYmd = f'{year}{month}{day:02d}'\n",
    "    data = getTouristDataService(reqYmd)\n",
    "    if xmltodict.parse(data)['response']['body']['items'] == None:   #해당날짜에 데이터 없을 수 있음\n",
    "        resList = []\n",
    "    else:\n",
    "        resList = xmltodict.parse(data)['response']['body']['items']['item']\n",
    "    totalList = totalList + resList"
   ]
  },
  {
   "cell_type": "code",
   "execution_count": 5,
   "metadata": {},
   "outputs": [
    {
     "data": {
      "text/plain": [
       "0"
      ]
     },
     "execution_count": 5,
     "metadata": {},
     "output_type": "execute_result"
    }
   ],
   "source": [
    "len(totalList)"
   ]
  },
  {
   "cell_type": "code",
   "execution_count": 6,
   "metadata": {},
   "outputs": [
    {
     "ename": "NameError",
     "evalue": "name 'pd' is not defined",
     "output_type": "error",
     "traceback": [
      "\u001b[1;31m---------------------------------------------------------------------------\u001b[0m",
      "\u001b[1;31mNameError\u001b[0m                                 Traceback (most recent call last)",
      "Cell \u001b[1;32mIn[6], line 1\u001b[0m\n\u001b[1;32m----> 1\u001b[0m dfTourist \u001b[38;5;241m=\u001b[39m \u001b[43mpd\u001b[49m\u001b[38;5;241m.\u001b[39mDataFrame(totalList)\n",
      "\u001b[1;31mNameError\u001b[0m: name 'pd' is not defined"
     ]
    }
   ],
   "source": [
    "dfTourist = pd.DataFrame(totalList)"
   ]
  },
  {
   "cell_type": "code",
   "execution_count": null,
   "metadata": {},
   "outputs": [],
   "source": [
    "dfTourist.tail()"
   ]
  },
  {
   "cell_type": "code",
   "execution_count": null,
   "metadata": {},
   "outputs": [],
   "source": [
    "dfTourist.info()"
   ]
  },
  {
   "cell_type": "code",
   "execution_count": null,
   "metadata": {},
   "outputs": [],
   "source": [
    "\n",
    "dfTourist.to_excel('./data/Tourist_dataportal.xlsx')"
   ]
  }
 ],
 "metadata": {
  "kernelspec": {
   "display_name": "Python 3",
   "language": "python",
   "name": "python3"
  },
  "language_info": {
   "codemirror_mode": {
    "name": "ipython",
    "version": 3
   },
   "file_extension": ".py",
   "mimetype": "text/x-python",
   "name": "python",
   "nbconvert_exporter": "python",
   "pygments_lexer": "ipython3",
   "version": "3.12.2"
  }
 },
 "nbformat": 4,
 "nbformat_minor": 2
}

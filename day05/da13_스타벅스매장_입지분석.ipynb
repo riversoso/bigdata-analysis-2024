{
 "cells": [
  {
   "cell_type": "markdown",
   "metadata": {},
   "source": [
    "## 빅데이터 실습\n",
    "\n",
    "### 스타벅스매장 입지 분석\n",
    "\n",
    "#### 데이터 수집\n",
    "\n",
    "##### 셀레니움 사용 자동화"
   ]
  },
  {
   "cell_type": "code",
   "execution_count": 3,
   "metadata": {},
   "outputs": [],
   "source": [
    "# 필요 라이브러리 사용등록\n",
    "from selenium import webdriver\n",
    "from selenium.webdriver.common.by import By\n",
    "from bs4 import BeautifulSoup\n",
    "import pandas as pd"
   ]
  },
  {
   "cell_type": "code",
   "execution_count": 2,
   "metadata": {},
   "outputs": [],
   "source": [
    "# 웹드라이버 스타벅스 웹사이트 오픈\n",
    "driver = webdriver.Chrome()\n",
    "url = 'https://www.starbucks.co.kr/store/store_map.do?disp=locale'\n",
    "driver.get(url)"
   ]
  },
  {
   "cell_type": "code",
   "execution_count": 15,
   "metadata": {},
   "outputs": [],
   "source": [
    "# 웹드라이버에서 소스 위치 지역 서울링크 클릭(생략 : 미사용)\n",
    "path = 'div.loca_step1_cont > ul > li:nth-child(1) > a'\n",
    "driver.find_element(By.CSS_SELECTOR, path).click()"
   ]
  },
  {
   "cell_type": "code",
   "execution_count": 21,
   "metadata": {},
   "outputs": [],
   "source": [
    "# 웹드라이버에서 소스 위치 지역 서울링크 클릭(사용 : 최고 단순하게)\n",
    "name = 'set_sido_cd_btn'\n",
    "driver.find_elements(By.CLASS_NAME, name)[0].click()"
   ]
  },
  {
   "cell_type": "code",
   "execution_count": 20,
   "metadata": {},
   "outputs": [],
   "source": [
    "# 웹드라이버에서 소스 위치 지역 부산링크 클릭(미사용)\n",
    "name = 'set_sido_cd_btn'\n",
    "driver.find_elements(By.CLASS_NAME, name)[5].click()"
   ]
  },
  {
   "cell_type": "code",
   "execution_count": 23,
   "metadata": {},
   "outputs": [],
   "source": [
    "# 웹드라이버에서 소스 위치 전체링크 클릭\n",
    "name = 'set_gugun_cd_btn'\n",
    "driver.find_elements(By.CLASS_NAME, name)[0].click()"
   ]
  },
  {
   "cell_type": "markdown",
   "metadata": {},
   "source": [
    "##### BeautifulSoup로 html 가져오기"
   ]
  },
  {
   "cell_type": "code",
   "execution_count": 25,
   "metadata": {},
   "outputs": [],
   "source": [
    "html = driver.page_source\n",
    "soup = BeautifulSoup(html, 'html.parser')"
   ]
  },
  {
   "cell_type": "code",
   "execution_count": 27,
   "metadata": {},
   "outputs": [
    {
     "data": {
      "text/plain": [
       "613"
      ]
     },
     "execution_count": 27,
     "metadata": {},
     "output_type": "execute_result"
    }
   ],
   "source": [
    "# 검색결과 613개 겟\n",
    "sbSeoulList = soup.select('li.quickResultLstCon')\n",
    "len(sbSeoulList)"
   ]
  },
  {
   "cell_type": "code",
   "execution_count": 29,
   "metadata": {},
   "outputs": [
    {
     "data": {
      "text/plain": [
       "<li class=\"quickResultLstCon\" data-code=\"3648\" data-hlytag=\"null\" data-index=\"8\" data-lat=\"37.507750\" data-long=\"127.060651\" data-name=\"삼성역섬유센터R\" data-storecd=\"1438\" style=\"background:#fff\"> <strong data-my_siren_order_store_yn=\"N\" data-name=\"삼성역섬유센터R\" data-store=\"1438\" data-yn=\"N\">삼성역섬유센터R  </strong> <p class=\"result_details\">서울특별시 강남구 테헤란로 518 (대치동)<br/>1522-3232</p> <i class=\"pin_reserve\">리저브 매장 2번</i></li>"
      ]
     },
     "execution_count": 29,
     "metadata": {},
     "output_type": "execute_result"
    }
   ],
   "source": [
    "sbSeoulList[8]"
   ]
  },
  {
   "cell_type": "markdown",
   "metadata": {},
   "source": [
    "##### 서울 매장 리스트 DF"
   ]
  },
  {
   "cell_type": "code",
   "execution_count": 62,
   "metadata": {},
   "outputs": [],
   "source": [
    "sbSeoulStores = []\n",
    "for item in sbSeoulList: # 613반복\n",
    "    name = item.select('strong')[0].text.strip() # 지점명\n",
    "    lat = item['data-lat'].strip() # 위도\n",
    "    lng = item['data-long'].strip() # 경도\n",
    "    storeType = item.select('i')[0]['class'][0].split('_')[1] # 가게종류(일반, 리저브, DT, WT)\n",
    "    address = str(item.select('p.result_details')[0]).split('<br/>')[0].split('>')[1] # 주소\n",
    "    tel = str(item.select('p.result_details')[0]).split('<br/>')[1].split('<')[0] # 전화번호(1522-3232 대표번호로 변경)\n",
    "\n",
    "    sbSeoulStores.append([name, lat, lng, storeType, address, tel])"
   ]
  },
  {
   "cell_type": "code",
   "execution_count": 64,
   "metadata": {},
   "outputs": [
    {
     "data": {
      "text/plain": [
       "613"
      ]
     },
     "execution_count": 64,
     "metadata": {},
     "output_type": "execute_result"
    }
   ],
   "source": [
    "len(sbSeoulStores)"
   ]
  },
  {
   "cell_type": "code",
   "execution_count": 67,
   "metadata": {},
   "outputs": [],
   "source": [
    "# DF로 변경\n",
    "dfStarBucksSeoul = pd.DataFrame(sbSeoulStores, columns=['매장명', '위도', '경도', '매장타입', '주소', '전화번호'])"
   ]
  },
  {
   "cell_type": "code",
   "execution_count": 69,
   "metadata": {},
   "outputs": [
    {
     "data": {
      "text/html": [
       "<div>\n",
       "<style scoped>\n",
       "    .dataframe tbody tr th:only-of-type {\n",
       "        vertical-align: middle;\n",
       "    }\n",
       "\n",
       "    .dataframe tbody tr th {\n",
       "        vertical-align: top;\n",
       "    }\n",
       "\n",
       "    .dataframe thead th {\n",
       "        text-align: right;\n",
       "    }\n",
       "</style>\n",
       "<table border=\"1\" class=\"dataframe\">\n",
       "  <thead>\n",
       "    <tr style=\"text-align: right;\">\n",
       "      <th></th>\n",
       "      <th>매장명</th>\n",
       "      <th>위도</th>\n",
       "      <th>경도</th>\n",
       "      <th>매장타입</th>\n",
       "      <th>주소</th>\n",
       "      <th>전화번호</th>\n",
       "    </tr>\n",
       "  </thead>\n",
       "  <tbody>\n",
       "    <tr>\n",
       "      <th>608</th>\n",
       "      <td>사가정역</td>\n",
       "      <td>37.579594</td>\n",
       "      <td>127.087966</td>\n",
       "      <td>general</td>\n",
       "      <td>서울특별시 중랑구 면목로 310</td>\n",
       "      <td>1522-3232</td>\n",
       "    </tr>\n",
       "    <tr>\n",
       "      <th>609</th>\n",
       "      <td>상봉역</td>\n",
       "      <td>37.59689</td>\n",
       "      <td>127.08647</td>\n",
       "      <td>general</td>\n",
       "      <td>서울특별시 중랑구 망우로 307 (상봉동)</td>\n",
       "      <td>1522-3232</td>\n",
       "    </tr>\n",
       "    <tr>\n",
       "      <th>610</th>\n",
       "      <td>묵동</td>\n",
       "      <td>37.615368</td>\n",
       "      <td>127.076633</td>\n",
       "      <td>general</td>\n",
       "      <td>서울특별시 중랑구 동일로 952 (묵동, 로프트원 태릉입구역) 1층</td>\n",
       "      <td>1522-3232</td>\n",
       "    </tr>\n",
       "    <tr>\n",
       "      <th>611</th>\n",
       "      <td>양원역</td>\n",
       "      <td>37.6066536267232</td>\n",
       "      <td>127.106359790053</td>\n",
       "      <td>general</td>\n",
       "      <td>서울특별시 중랑구 양원역로10길 3 (망우동)</td>\n",
       "      <td>1522-3232</td>\n",
       "    </tr>\n",
       "    <tr>\n",
       "      <th>612</th>\n",
       "      <td>중화역</td>\n",
       "      <td>37.60170912407773</td>\n",
       "      <td>127.07841136432036</td>\n",
       "      <td>general</td>\n",
       "      <td>서울특별시 중랑구 봉화산로 35 1층</td>\n",
       "      <td>1522-3232</td>\n",
       "    </tr>\n",
       "  </tbody>\n",
       "</table>\n",
       "</div>"
      ],
      "text/plain": [
       "      매장명                 위도                  경도     매장타입  \\\n",
       "608  사가정역          37.579594          127.087966  general   \n",
       "609   상봉역           37.59689           127.08647  general   \n",
       "610    묵동          37.615368          127.076633  general   \n",
       "611   양원역   37.6066536267232    127.106359790053  general   \n",
       "612   중화역  37.60170912407773  127.07841136432036  general   \n",
       "\n",
       "                                        주소       전화번호  \n",
       "608                      서울특별시 중랑구 면목로 310  1522-3232  \n",
       "609                서울특별시 중랑구 망우로 307 (상봉동)  1522-3232  \n",
       "610  서울특별시 중랑구 동일로 952 (묵동, 로프트원 태릉입구역) 1층  1522-3232  \n",
       "611              서울특별시 중랑구 양원역로10길 3 (망우동)  1522-3232  \n",
       "612                   서울특별시 중랑구 봉화산로 35 1층  1522-3232  "
      ]
     },
     "execution_count": 69,
     "metadata": {},
     "output_type": "execute_result"
    }
   ],
   "source": [
    "dfStarBucksSeoul.tail()"
   ]
  },
  {
   "cell_type": "code",
   "execution_count": 71,
   "metadata": {},
   "outputs": [
    {
     "name": "stdout",
     "output_type": "stream",
     "text": [
      "<class 'pandas.core.frame.DataFrame'>\n",
      "RangeIndex: 613 entries, 0 to 612\n",
      "Data columns (total 6 columns):\n",
      " #   Column  Non-Null Count  Dtype \n",
      "---  ------  --------------  ----- \n",
      " 0   매장명     613 non-null    object\n",
      " 1   위도      613 non-null    object\n",
      " 2   경도      613 non-null    object\n",
      " 3   매장타입    613 non-null    object\n",
      " 4   주소      613 non-null    object\n",
      " 5   전화번호    613 non-null    object\n",
      "dtypes: object(6)\n",
      "memory usage: 28.9+ KB\n"
     ]
    }
   ],
   "source": [
    "# 결측치가 하나도 없음!\n",
    "dfStarBucksSeoul.info()"
   ]
  },
  {
   "cell_type": "code",
   "execution_count": 72,
   "metadata": {},
   "outputs": [],
   "source": [
    "dfStarBucksSeoul.to_excel('./data/startbucks_seoul_list.xlsx', index=False)"
   ]
  },
  {
   "cell_type": "markdown",
   "metadata": {},
   "source": [
    "##### 서울열린데이터광장 OpenAPI 공공데이터 수집\n",
    "\n",
    "- 아래방법 동작안함"
   ]
  },
  {
   "cell_type": "code",
   "execution_count": 1,
   "metadata": {},
   "outputs": [],
   "source": [
    "# 서울열린데이터광장 API 키\n",
    "SEOUL_API_KEY = '4f77686f4b70657235307647486555'"
   ]
  },
  {
   "cell_type": "code",
   "execution_count": 2,
   "metadata": {},
   "outputs": [
    {
     "data": {
      "text/plain": [
       "'http://openapi.seoul.go.kr:8088/4f77686f4b70657235307647486555/json/SdeTlSccoSigW/1/25'"
      ]
     },
     "execution_count": 2,
     "metadata": {},
     "output_type": "execute_result"
    }
   ],
   "source": [
    "# 서울열린데이터광장 호출 URL\n",
    "url = f'http://openapi.seoul.go.kr:8088/{SEOUL_API_KEY}/json/SdeTlSccoSigW/1/25'\n",
    "url"
   ]
  },
  {
   "cell_type": "markdown",
   "metadata": {},
   "source": [
    "##### 행정구역 데이터(위경도 + 구역)\n",
    "- https://github.com/southkorea/seoul-maps/blob/master/kostat/2013/json/seoul_municipalities_geo_simple.json\n"
   ]
  }
 ],
 "metadata": {
  "kernelspec": {
   "display_name": "Python 3",
   "language": "python",
   "name": "python3"
  },
  "language_info": {
   "codemirror_mode": {
    "name": "ipython",
    "version": 3
   },
   "file_extension": ".py",
   "mimetype": "text/x-python",
   "name": "python",
   "nbconvert_exporter": "python",
   "pygments_lexer": "ipython3",
   "version": "3.12.2"
  }
 },
 "nbformat": 4,
 "nbformat_minor": 2
}
